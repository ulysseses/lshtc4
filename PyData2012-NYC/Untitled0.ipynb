{
 "metadata": {
  "name": ""
 },
 "nbformat": 3,
 "nbformat_minor": 0,
 "worksheets": [
  {
   "cells": [
    {
     "cell_type": "code",
     "collapsed": false,
     "input": [
      "import tables as tb"
     ],
     "language": "python",
     "metadata": {},
     "outputs": [],
     "prompt_number": 6
    },
    {
     "cell_type": "code",
     "collapsed": false,
     "input": [
      "# The description for the tabular sparse data\n",
      "class TabularData(tb.IsDescription):\n",
      "    doc_num = tb.UIntCol()\n",
      "    hash_id = tb.UIntCol()\n",
      "    tfidf_val = tb.Float32Col()"
     ],
     "language": "python",
     "metadata": {},
     "outputs": [],
     "prompt_number": 7
    },
    {
     "cell_type": "code",
     "collapsed": false,
     "input": [
      "# Open a file and create the Table container\n",
      "f = tb.openFile('corpus.h5', 'w')\n",
      "t = f.createTable(f.root, 'table', TabularData, 'train set',\n",
      "    filters=tb.Filters(5, 'blosc'))"
     ],
     "language": "python",
     "metadata": {},
     "outputs": [],
     "prompt_number": 12
    },
    {
     "cell_type": "code",
     "collapsed": false,
     "input": [
      "t"
     ],
     "language": "python",
     "metadata": {},
     "outputs": [
      {
       "metadata": {},
       "output_type": "pyout",
       "prompt_number": 5,
       "text": [
        "/table (Table(0,), shuffle, blosc(5)) 'train set'\n",
        "  description := {\n",
        "  \"doc_num\": Int32Col(shape=(), dflt=0, pos=0),\n",
        "  \"hash_id\": Int32Col(shape=(), dflt=0, pos=1),\n",
        "  \"tfidf_val\": Float64Col(shape=(), dflt=0.0, pos=2)}\n",
        "  byteorder := 'little'\n",
        "  chunkshape := (4096,)"
       ]
      }
     ],
     "prompt_number": 5
    },
    {
     "cell_type": "code",
     "collapsed": false,
     "input": [
      "%%time\n",
      "# Fill the table with 1 million docs\n",
      "from numpy.random import randint, rand\n",
      "r = t.row\n",
      "for i in xrange(1000000):\n",
      "    for j in xrange(randint(10)):\n",
      "        r['doc_num'] = i\n",
      "        r['hash_id'] = randint(1000000)\n",
      "        r['tfidf_val'] = rand()\n",
      "        r.append()\n",
      "t.flush()"
     ],
     "language": "python",
     "metadata": {},
     "outputs": [
      {
       "output_type": "stream",
       "stream": "stdout",
       "text": [
        "CPU times: user 5.67 s, sys: 115 ms, total: 5.78 s\n",
        "Wall time: 5.72 s\n"
       ]
      }
     ],
     "prompt_number": 13
    },
    {
     "cell_type": "code",
     "collapsed": false,
     "input": [
      "t"
     ],
     "language": "python",
     "metadata": {},
     "outputs": [
      {
       "metadata": {},
       "output_type": "pyout",
       "prompt_number": 6,
       "text": [
        "/table (Table(4496317,), shuffle, blosc(5)) 'train set'\n",
        "  description := {\n",
        "  \"doc_num\": Int32Col(shape=(), dflt=0, pos=0),\n",
        "  \"hash_id\": Int32Col(shape=(), dflt=0, pos=1),\n",
        "  \"tfidf_val\": Float64Col(shape=(), dflt=0.0, pos=2)}\n",
        "  byteorder := 'little'\n",
        "  chunkshape := (4096,)"
       ]
      }
     ],
     "prompt_number": 6
    },
    {
     "cell_type": "code",
     "collapsed": false,
     "input": [
      "# Size on disk\n",
      "!ls -lh corpus.h5"
     ],
     "language": "python",
     "metadata": {},
     "outputs": [
      {
       "output_type": "stream",
       "stream": "stdout",
       "text": [
        "-rw-rw-rw-  1 richizy  staff    45M Feb 17 15:13 corpus.h5\r\n"
       ]
      }
     ],
     "prompt_number": 7
    },
    {
     "cell_type": "code",
     "collapsed": false,
     "input": [
      "# Real size\n",
      "np.prod(t.shape) * t.dtype.itemsize / 2**20"
     ],
     "language": "python",
     "metadata": {},
     "outputs": [
      {
       "metadata": {},
       "output_type": "pyout",
       "prompt_number": 8,
       "text": [
        "68"
       ]
      }
     ],
     "prompt_number": 8
    },
    {
     "cell_type": "code",
     "collapsed": false,
     "input": [
      "# Do a query (regular)\n",
      "num_set = set([0,250000,500000,750000,999999])\n",
      "%time _ = [r['doc_num'] for r in t if r['doc_num'] in num_set]\n",
      "print _\n",
      "del _"
     ],
     "language": "python",
     "metadata": {},
     "outputs": [
      {
       "output_type": "stream",
       "stream": "stdout",
       "text": [
        "CPU times: user 1.03 s, sys: 16.6 ms, total: 1.05 s\n",
        "Wall time: 1.04 s\n",
        "[0, 0, 0, 0, 0, 250000, 250000, 250000, 250000, 500000, 500000, 500000, 500000, 500000, 500000, 500000, 500000, 500000, 750000, 750000, 750000, 750000, 999999, 999999, 999999, 999999, 999999, 999999, 999999, 999999, 999999]\n"
       ]
      }
     ],
     "prompt_number": 35
    },
    {
     "cell_type": "code",
     "collapsed": false,
     "input": [
      "%time _ = [r['doc_num'] for r in t if ((r['doc_num'] == 0) or \\\n",
      "    (r['doc_num'] == 250000) or (r['doc_num'] == 500000) or \\\n",
      "    (r['doc_num'] == 750000) or r['doc_num'] == (999999))]\n",
      "print _\n",
      "del _"
     ],
     "language": "python",
     "metadata": {},
     "outputs": [
      {
       "output_type": "stream",
       "stream": "stdout",
       "text": [
        "CPU times: user 2.82 s, sys: 33.7 ms, total: 2.85 s\n",
        "Wall time: 2.84 s\n",
        "[0, 0, 0, 0, 0, 250000, 250000, 250000, 250000, 500000, 500000, 500000, 500000, 500000, 500000, 500000, 500000, 500000, 750000, 750000, 750000, 750000, 999999, 999999, 999999, 999999, 999999, 999999, 999999, 999999, 999999]\n"
       ]
      }
     ],
     "prompt_number": 39
    },
    {
     "cell_type": "code",
     "collapsed": false,
     "input": [
      "# Repeat the query, but using in-kernel method\n",
      "%time _ = [r['doc_num'] for r in \\\n",
      "    t.where('(doc_num == 0) | (doc_num == 250000) | (doc_num == 500000)'\\\n",
      "            '| (doc_num == 750000) | (doc_num == 999999)')]\n",
      "print _\n",
      "del _"
     ],
     "language": "python",
     "metadata": {},
     "outputs": [
      {
       "output_type": "stream",
       "stream": "stdout",
       "text": [
        "CPU times: user 164 ms, sys: 22.5 ms, total: 186 ms\n",
        "Wall time: 125 ms\n",
        "[0, 0, 0, 0, 0, 250000, 250000, 250000, 250000, 500000, 500000, 500000, 500000, 500000, 500000, 500000, 500000, 500000, 750000, 750000, 750000, 750000, 999999, 999999, 999999, 999999, 999999, 999999, 999999, 999999, 999999]\n"
       ]
      }
     ],
     "prompt_number": 26
    },
    {
     "cell_type": "code",
     "collapsed": false,
     "input": [
      "# Get a structured array out of disk\n",
      "%time sa = t[:]\n",
      "sa"
     ],
     "language": "python",
     "metadata": {},
     "outputs": [
      {
       "output_type": "stream",
       "stream": "stdout",
       "text": [
        "CPU times: user 75.1 ms, sys: 44 ms, total: 119 ms\n",
        "Wall time: 119 ms\n"
       ]
      },
      {
       "metadata": {},
       "output_type": "pyout",
       "prompt_number": 32,
       "text": [
        "array([(0, 275625, 0.2686505301616243), (0, 998418, 0.5851455355619898),\n",
        "       (0, 976588, 0.6453229763481583), ...,\n",
        "       (999999, 996833, 0.5053057218816693),\n",
        "       (999999, 173024, 0.11731782932894452),\n",
        "       (999999, 618256, 0.06924124751674521)], \n",
        "      dtype=[('doc_num', '<i4'), ('hash_id', '<i4'), ('tfidf_val', '<f8')])"
       ]
      }
     ],
     "prompt_number": 32
    },
    {
     "cell_type": "code",
     "collapsed": false,
     "input": [
      "# Perform the query on sa instead of t\n",
      "%time _ = sa[(sa['doc_num'] == 0) | (sa['doc_num'] == 250000) | \\\n",
      "    (sa['doc_num'] == 500000) | (sa['doc_num'] == 750000) | \\\n",
      "    (sa['doc_num'] == 999999)]['doc_num']\n",
      "print _\n",
      "del _"
     ],
     "language": "python",
     "metadata": {},
     "outputs": [
      {
       "output_type": "stream",
       "stream": "stdout",
       "text": [
        "CPU times: user 71.1 ms, sys: 7.27 ms, total: 78.4 ms\n",
        "Wall time: 77.4 ms\n",
        "[     0      0      0      0      0 250000 250000 250000 250000 500000\n",
        " 500000 500000 500000 500000 500000 500000 500000 500000 750000 750000\n",
        " 750000 750000 999999 999999 999999 999999 999999 999999 999999 999999\n",
        " 999999]\n"
       ]
      }
     ],
     "prompt_number": 43
    },
    {
     "cell_type": "code",
     "collapsed": false,
     "input": [
      "# Create an index for the on-disk table\n",
      "%time t.cols.doc_num.createCSIndex()"
     ],
     "language": "python",
     "metadata": {},
     "outputs": [
      {
       "output_type": "stream",
       "stream": "stdout",
       "text": [
        "CPU times: user 3.89 s, sys: 250 ms, total: 4.14 s\n",
        "Wall time: 4.18 s\n"
       ]
      },
      {
       "metadata": {},
       "output_type": "pyout",
       "prompt_number": 45,
       "text": [
        "4496317"
       ]
      }
     ],
     "prompt_number": 45
    },
    {
     "cell_type": "code",
     "collapsed": false,
     "input": [
      "# Repeat the basic query on table (indexed)\n",
      "# Do a query (regular)\n",
      "num_set = set([0,250000,500000,750000,999999])\n",
      "%time _ = [r['doc_num'] for r in t if r['doc_num'] in num_set]\n",
      "print _\n",
      "del _"
     ],
     "language": "python",
     "metadata": {},
     "outputs": [
      {
       "output_type": "stream",
       "stream": "stdout",
       "text": [
        "CPU times: user 1.06 s, sys: 25.7 ms, total: 1.09 s\n",
        "Wall time: 1.08 s\n",
        "[0, 0, 0, 0, 0, 250000, 250000, 250000, 250000, 500000, 500000, 500000, 500000, 500000, 500000, 500000, 500000, 500000, 750000, 750000, 750000, 750000, 999999, 999999, 999999, 999999, 999999, 999999, 999999, 999999, 999999]\n"
       ]
      }
     ],
     "prompt_number": 46
    },
    {
     "cell_type": "code",
     "collapsed": false,
     "input": [
      "# Repeat the query, but using in-kernel method\n",
      "%time _ = [r['doc_num'] for r in \\\n",
      "    t.where('(doc_num == 0) | (doc_num == 250000) | (doc_num == 500000)'\\\n",
      "            '| (doc_num == 750000) | (doc_num == 999999)')]\n",
      "print _\n",
      "del _"
     ],
     "language": "python",
     "metadata": {},
     "outputs": [
      {
       "output_type": "stream",
       "stream": "stdout",
       "text": [
        "CPU times: user 15.6 ms, sys: 2.59 ms, total: 18.2 ms\n",
        "Wall time: 19.7 ms\n",
        "[0, 0, 0, 0, 0, 250000, 250000, 250000, 250000, 500000, 500000, 500000, 500000, 500000, 500000, 500000, 500000, 500000, 750000, 750000, 750000, 750000, 999999, 999999, 999999, 999999, 999999, 999999, 999999, 999999, 999999]\n"
       ]
      }
     ],
     "prompt_number": 48
    },
    {
     "cell_type": "code",
     "collapsed": false,
     "input": [
      "%load_ext cythonmagic"
     ],
     "language": "python",
     "metadata": {},
     "outputs": [],
     "prompt_number": 1
    },
    {
     "cell_type": "code",
     "collapsed": false,
     "input": [
      "%%cython -f -c=-O3\n",
      "#distutils: language=c++\n",
      "from container cimport unordered_set\n",
      "from cython.operator cimport dereference as deref, preincrement as inc\n",
      "from libcpp.vector cimport vector\n",
      "cdef unordered_set[int] num_set\n",
      "num_set.insert(0); num_set.insert(250000); num_set.insert(500000)\n",
      "num_set.insert(750000); num_set.insert(999999)\n",
      "\n",
      "cdef vector[int] t\n",
      "cdef int i, j\n",
      "import random\n",
      "for i in xrange(1000000):\n",
      "    for j in xrange(<int>(random.random() * 10)):\n",
      "        t.push_back(i)\n",
      "\n",
      "import time\n",
      "cdef vector[int] results\n",
      "cdef vector[int].iterator t_itr = t.begin()\n",
      "cdef unordered_set[int].iterator num_set_got\n",
      "cdef int x\n",
      "t0 = time.time()\n",
      "while t_itr != t.end():\n",
      "    x = deref(t_itr)\n",
      "    inc(t_itr)\n",
      "    num_set_got = num_set.find(x)\n",
      "    if num_set_got != num_set.end():\n",
      "        results.push_back(x)\n",
      "t1 = time.time()\n",
      "print t.size()\n",
      "print \"time elapsed: %.3f ms\" % ((t1 - t0)*1e3)\n",
      "for i in xrange(results.size()):\n",
      "    print results[i],"
     ],
     "language": "python",
     "metadata": {},
     "outputs": [
      {
       "output_type": "stream",
       "stream": "stdout",
       "text": [
        "4500015\n",
        "time elapsed: 73.249 ms\n",
        "0 0 0 0 250000 250000 250000 250000 250000 250000 250000 250000 250000 500000 500000 500000 500000 500000 500000 500000 500000 750000 750000\n"
       ]
      }
     ],
     "prompt_number": 2
    },
    {
     "cell_type": "code",
     "collapsed": false,
     "input": [
      "pt = [i for i in xrange(1000000) for j in xrange(randint(10))]\n",
      "num_set = set([0,250000,500000,750000,999999])\n",
      "print len(pt)\n",
      "%time _ = [r for r in pt if r in num_set]\n",
      "print _\n",
      "del _"
     ],
     "language": "python",
     "metadata": {},
     "outputs": [
      {
       "output_type": "stream",
       "stream": "stdout",
       "text": [
        "4501446\n",
        "CPU times: user 594 ms, sys: 9.71 ms, total: 603 ms"
       ]
      },
      {
       "output_type": "stream",
       "stream": "stdout",
       "text": [
        "\n",
        "Wall time: 603 ms\n",
        "[0, 250000, 500000, 500000, 500000, 500000, 500000, 750000, 750000, 999999, 999999]\n"
       ]
      }
     ],
     "prompt_number": 91
    },
    {
     "cell_type": "code",
     "collapsed": false,
     "input": [
      "%%cython -f -c=-O3\n",
      "cdef int i, j\n",
      "import numpy\n",
      "cimport numpy\n",
      "from numpy.random import randint\n",
      "pt = [i for i in xrange(1000000) for j in xrange(randint(10))]\n",
      "num_lst = [0,250000,500000,750000,999999]\n",
      "cdef int num\n",
      "num_set = set(num for num in num_lst)\n",
      "import time\n",
      "cdef int r\n",
      "t0 = time.time()\n",
      "_ = [r for r in pt if r in num_set]\n",
      "t1 = time.time()\n",
      "print \"time elapsed: %.3f ms\" % ((t1 - t0)*1e3)\n",
      "print _\n",
      "del _"
     ],
     "language": "python",
     "metadata": {},
     "outputs": [
      {
       "output_type": "stream",
       "stream": "stdout",
       "text": [
        "time elapsed: 225.922 ms\n",
        "[0, 0, 0, 0, 0, 0, 250000, 500000, 500000, 999999, 999999, 999999, 999999, 999999, 999999, 999999, 999999, 999999]\n"
       ]
      }
     ],
     "prompt_number": 83
    },
    {
     "cell_type": "code",
     "collapsed": false,
     "input": [
      "f.close()"
     ],
     "language": "python",
     "metadata": {},
     "outputs": [],
     "prompt_number": 141
    },
    {
     "cell_type": "code",
     "collapsed": false,
     "input": [
      "f = tb.openFile('corpus.h5', 'r')\n",
      "t = f.root.table"
     ],
     "language": "python",
     "metadata": {},
     "outputs": [],
     "prompt_number": 143
    },
    {
     "cell_type": "code",
     "collapsed": false,
     "input": [
      "# Repeat the query, but using in-kernel method\n",
      "%time _ = [r['doc_num'] for r in \\\n",
      "    t.where('(doc_num == 0) | (doc_num == 250000) | (doc_num == 500000)'\\\n",
      "            '| (doc_num == 750000) | (doc_num == 999999)')]\n",
      "print _\n",
      "del _"
     ],
     "language": "python",
     "metadata": {},
     "outputs": [
      {
       "output_type": "stream",
       "stream": "stdout",
       "text": [
        "CPU times: user 15.1 ms, sys: 3.61 ms, total: 18.8 ms\n",
        "Wall time: 17.2 ms\n",
        "[0, 0, 0, 0, 0, 250000, 250000, 250000, 250000, 500000, 500000, 500000, 500000, 500000, 500000, 500000, 500000, 500000, 750000, 750000, 750000, 750000, 999999, 999999, 999999, 999999, 999999, 999999, 999999, 999999, 999999]\n"
       ]
      }
     ],
     "prompt_number": 144
    },
    {
     "cell_type": "code",
     "collapsed": false,
     "input": [
      "f.close()"
     ],
     "language": "python",
     "metadata": {},
     "outputs": [],
     "prompt_number": 145
    },
    {
     "cell_type": "code",
     "collapsed": false,
     "input": [
      "%load_ext cythonmagic"
     ],
     "language": "python",
     "metadata": {},
     "outputs": [],
     "prompt_number": 11
    },
    {
     "cell_type": "code",
     "collapsed": false,
     "input": [
      "%%cython -f -c=-O3\n",
      "#distutils: language=c++\n",
      "import tables as tb\n",
      "f = tb.openFile('corpus.h5', 'r')\n",
      "t = f.root.table\n",
      "\n",
      "#cond = '(doc_num == 0) | (doc_num == 250000) | (doc_num == 500000)'\\\n",
      "#   '| (doc_num == 750000) | (doc_num == 999999)'\n",
      "cond = ' | '.join('(doc_num == %d)' % x for x in xrange(0, 10))\n",
      "gen = t.where(cond)\n",
      "\n",
      "from libcpp.vector cimport vector\n",
      "cdef vector[int] _\n",
      "import time\n",
      "cdef int doc_num\n",
      "t0 = time.time()\n",
      "for r in gen:\n",
      "    _.push_back(<int>r['doc_num'])\n",
      "t1 = time.time()\n",
      "print \"time elapsed: %.3f ms\" % ((t1 - t0)*1e3)\n",
      "cdef int i\n",
      "for i in xrange(_.size()):\n",
      "    print _[i], \n",
      "    \n",
      "f.close()"
     ],
     "language": "python",
     "metadata": {},
     "outputs": [
      {
       "output_type": "stream",
       "stream": "stdout",
       "text": [
        "time elapsed: 0.505 ms\n",
        "0 0 0 0 0 1 1 1 1 1 1 1 1 2 2 2 2 2 2 3 3 3 3 3 3 3 3 4 4 4 4 4 4 4 4 4 5 5 5 6 6 6 6 7 7 7 7 7 7 7 7 8 8 9 9 9 9 9\n"
       ]
      }
     ],
     "prompt_number": 31
    },
    {
     "cell_type": "code",
     "collapsed": false,
     "input": [
      "%%cython -f -c=-O3\n",
      "#distutils: language=c++\n",
      "import tables as tb\n",
      "from itertools import islice\n",
      "f = tb.openFile('corpus.h5', 'r')\n",
      "t = f.root.table\n",
      "\n",
      "#cond = '(doc_num == 0) | (doc_num == 250000) | (doc_num == 500000)'\\\n",
      "#   '| (doc_num == 750000) | (doc_num == 999999)'\n",
      "#cond = ' | '.join('(doc_num == %d)' % x for x in xrange(0, 10))\n",
      "#gen = t.where(cond)\n",
      "\n",
      "from libcpp.vector cimport vector\n",
      "cdef vector[int] _\n",
      "import time\n",
      "cdef int doc_num\n",
      "cdef int i\n",
      "start = 0\n",
      "t0 = time.time()\n",
      "# for i in xrange(10000):\n",
      "#     _.push_back(<int>t[i][0])\n",
      "# for r in islice(t, 0, 10000):\n",
      "#     _.push_back(<int>r[0])\n",
      "sa = t[10000:20000]['doc_num']\n",
      "t1 = time.time()\n",
      "print \"time elapsed: %.3f ms\" % ((t1 - t0)*1e3)\n",
      "# for i in xrange(100):\n",
      "#     print _[i], \n",
      "f.close()"
     ],
     "language": "python",
     "metadata": {},
     "outputs": [
      {
       "output_type": "stream",
       "stream": "stdout",
       "text": [
        "time elapsed: 0.548 ms\n"
       ]
      }
     ],
     "prompt_number": 10
    },
    {
     "cell_type": "code",
     "collapsed": false,
     "input": [
      "%%cython -f -c=-O3\n",
      "#distutils: language=c++\n",
      "from container cimport unordered_set\n",
      "from cython.operator cimport dereference as deref, preincrement as inc\n",
      "from libcpp.vector cimport vector\n",
      "cdef unordered_set[int] num_set\n",
      "num_set.insert(0); num_set.insert(250000); num_set.insert(500000)\n",
      "num_set.insert(750000); num_set.insert(999999)\n",
      "\n",
      "import tables as tb\n",
      "f = tb.openFile('corpus.h5', 'r')\n",
      "t = f.root.table\n",
      "\n",
      "import time\n",
      "cdef vector results[int]\n",
      "cdef int doc_num\n",
      "t0 = time.time()\n",
      "for r in t:\n",
      "    doc_num = r['doc_num']\n",
      "    if num_set.find(doc_num) != num_set.end():\n",
      "        results.push_back(doc_num)\n",
      "t1 = time.time()\n",
      "print \"time elapsed: %.3f ms\" % ((t1 - t0)*1e3)\n",
      "cdef int i\n",
      "for i in xrange(results.size()):\n",
      "    print results[i], \n",
      "f.close()"
     ],
     "language": "python",
     "metadata": {},
     "outputs": [
      {
       "output_type": "stream",
       "stream": "stdout",
       "text": [
        "time elapsed: 554.041 ms\n",
        "0 0 0 0 0 250000 250000 250000 250000 500000 500000 500000 500000 500000 500000 500000 500000 500000 750000 750000 750000 750000 999999 999999 999999 999999 999999 999999 999999 999999 999999\n"
       ]
      }
     ],
     "prompt_number": 13
    },
    {
     "cell_type": "code",
     "collapsed": false,
     "input": [
      "import tables as tb\n",
      "f = tb.openFile('corpus.h5', 'r')\n",
      "t = f.root.table\n",
      "\n",
      "from itertools import islice\n",
      "for r in islice(t, 0, 100):\n",
      "    print r[0], \n",
      "\n",
      "f.close()"
     ],
     "language": "python",
     "metadata": {},
     "outputs": [
      {
       "output_type": "stream",
       "stream": "stdout",
       "text": [
        "0 0 0 0 0 1 1 1 1 1 1 1 1 2 2 2 2 2 2 3 3 3 3 3 3 3 3 4 4 4 4 4 4 4 4 4 5 5 5 6 6 6 6 7 7 7 7 7 7 7 7 8 8 9 9 9 9 9 11 11 12 12 12 12 12 12 13 14 14 15 15 15 17 17 17 17 17 17 17 18 18 18 18 18 18 18 18 19 20 20 21 21 21 21 21 22 23 24 25 26\n"
       ]
      }
     ],
     "prompt_number": 46
    },
    {
     "cell_type": "code",
     "collapsed": false,
     "input": [
      "import tables as tb\n",
      "f = tb.openFile('corpus.h5', 'r')\n",
      "t = f.root.table\n",
      "\n",
      "sa = t[:10]['doc_num']\n",
      "print sa\n",
      "print type(sa)\n",
      "print sa.dtype\n",
      "\n",
      "f.close()"
     ],
     "language": "python",
     "metadata": {},
     "outputs": [
      {
       "output_type": "stream",
       "stream": "stdout",
       "text": [
        "[0 0 0 0 0 1 1 1 1 1]\n",
        "<type 'numpy.ndarray'>\n",
        "int32\n"
       ]
      }
     ],
     "prompt_number": 9
    },
    {
     "cell_type": "code",
     "collapsed": false,
     "input": [
      "%load_ext cythonmagic"
     ],
     "language": "python",
     "metadata": {},
     "outputs": [],
     "prompt_number": 1
    },
    {
     "cell_type": "code",
     "collapsed": false,
     "input": [
      "%%cython -f -c=-O3\n",
      "#distutils: language=c++\n",
      "# incore doc_len_idx\n",
      "from container cimport unordered_map\n",
      "from libcpp.vector cimport vector\n",
      "cdef unordered_map[int, int] doc_len_idx\n",
      "cdef int i\n",
      "for i in xrange(100000):\n",
      "    doc_len_idx[i] = i\n",
      "\n",
      "cdef vector[int] queries\n",
      "queries.push_back(0); queries.push_back(25000); queries.push_back(50000)\n",
      "queries.push_back(75000); queries.push_back(99999)\n",
      "    \n",
      "cdef vector[int] results\n",
      "cdef int j\n",
      "import time\n",
      "t0 = time.time()\n",
      "for j in xrange(10000):\n",
      "    for i in xrange(5):\n",
      "        doc_len_idx[queries[i]]\n",
      "t1 = time.time()\n",
      "print \"time elapsed: %.3f ms\" % ((t1 - t0)*1e3)"
     ],
     "language": "python",
     "metadata": {},
     "outputs": [
      {
       "output_type": "stream",
       "stream": "stdout",
       "text": [
        "time elapsed: 0.587 ms\n"
       ]
      }
     ],
     "prompt_number": 13
    },
    {
     "cell_type": "code",
     "collapsed": false,
     "input": [
      "%%cython -f -c=-O3\n",
      "#distutils: language=c++\n",
      "# outofcore t\n",
      "from libcpp.vector cimport vector\n",
      "import tables as tb\n",
      "import numpy\n",
      "cimport numpy\n",
      "\n",
      "# Build doc_len_idx in HDF5\n",
      "class TabularData(tb.IsDescription):\n",
      "    doc_num = tb.IntCol()\n",
      "    doc_len = tb.IntCol()\n",
      "\n",
      "f = tb.openFile('temp.h5', 'w')\n",
      "t = f.createTable(f.root, 'table', TabularData, 'train set',\n",
      "    filters=tb.Filters(5, 'blosc'))\n",
      "\n",
      "r = t.row\n",
      "cdef int i\n",
      "for i in xrange(100000):\n",
      "    r['doc_num'] = i\n",
      "    r['doc_len'] = i\n",
      "    r.append()\n",
      "t.flush()\n",
      "t.cols.doc_num.createCSIndex()\n",
      "\n",
      "# Query\n",
      "cdef vector[int] queries\n",
      "queries.push_back(0); queries.push_back(25000); queries.push_back(50000)\n",
      "queries.push_back(75000); queries.push_back(99999)\n",
      "\n",
      "# Benchmark\n",
      "cdef vector[int] results\n",
      "cdef int j\n",
      "import time\n",
      "t0 = time.time()\n",
      "for j in xrange(10000):\n",
      "    for i in xrange(5):\n",
      "        results.push_back(<int>t[queries[i]][0])\n",
      "t1 = time.time()\n",
      "print \"time elapsed: %.3f ms\" % ((t1 - t0)*1e3)\n",
      "f.close()"
     ],
     "language": "python",
     "metadata": {},
     "outputs": [
      {
       "output_type": "stream",
       "stream": "stdout",
       "text": [
        "time elapsed: 1695.259 ms\n"
       ]
      }
     ],
     "prompt_number": 3
    },
    {
     "cell_type": "code",
     "collapsed": false,
     "input": [
      "%load_ext cythonmagic"
     ],
     "language": "python",
     "metadata": {},
     "outputs": [],
     "prompt_number": 1
    },
    {
     "cell_type": "code",
     "collapsed": false,
     "input": [
      "# Recreate an iidx in VLArray form\n",
      "import tables as tb\n",
      "\n",
      "class InvData(tb.IsDescription):\n",
      "    hash_id = tb.IntCol()\n",
      "    doc_num = tb.IntCol()\n",
      "\n",
      "f = tb.openFile('corpus.h5', 'r')\n",
      "t = f.root.table\n",
      "t2 = f.createVLArray(f.root, 'table2', InvData, 'iidx_table',\n",
      "    filters=tb.Filters(5, 'blosc'))\n",
      "\n",
      "r2 = t2.row\n",
      "for r in t:\n",
      "    r2['hash_id'] = r['hash_id']\n",
      "    r2['doc_num'] = r['doc_num']\n",
      "    r2.append()\n",
      "t2.flush()\n",
      "t2.cols.hash_id.createCSIndex()\n",
      "\n",
      "# Benchmark gathering 1, 500000, and 900000\n"
     ],
     "language": "python",
     "metadata": {},
     "outputs": []
    },
    {
     "cell_type": "code",
     "collapsed": false,
     "input": [
      "import tables as tb\n",
      "\n",
      "f = tb.openFile('temp.h5', 'r+')\n",
      "t = f.root.table\n",
      "\n",
      "for r in t.itersequence(range(4)):\n",
      "    print r['doc_num'],\n",
      "f.close()"
     ],
     "language": "python",
     "metadata": {},
     "outputs": [
      {
       "ename": "TypeError",
       "evalue": "sequence index must be integer, not 'slice'",
       "output_type": "pyerr",
       "traceback": [
        "\u001b[0;31m---------------------------------------------------------------------------\u001b[0m\n\u001b[0;31mTypeError\u001b[0m                                 Traceback (most recent call last)",
        "\u001b[0;32m<ipython-input-10-87862e39a6b1>\u001b[0m in \u001b[0;36m<module>\u001b[0;34m()\u001b[0m\n\u001b[1;32m      4\u001b[0m \u001b[0mt\u001b[0m \u001b[0;34m=\u001b[0m \u001b[0mf\u001b[0m\u001b[0;34m.\u001b[0m\u001b[0mroot\u001b[0m\u001b[0;34m.\u001b[0m\u001b[0mtable\u001b[0m\u001b[0;34m\u001b[0m\u001b[0m\n\u001b[1;32m      5\u001b[0m \u001b[0;34m\u001b[0m\u001b[0m\n\u001b[0;32m----> 6\u001b[0;31m \u001b[0;32mfor\u001b[0m \u001b[0mr\u001b[0m \u001b[0;32min\u001b[0m \u001b[0mt\u001b[0m\u001b[0;34m.\u001b[0m\u001b[0mitersequence\u001b[0m\u001b[0;34m(\u001b[0m\u001b[0mxrange\u001b[0m\u001b[0;34m(\u001b[0m\u001b[0;36m4\u001b[0m\u001b[0;34m)\u001b[0m\u001b[0;34m)\u001b[0m\u001b[0;34m:\u001b[0m\u001b[0;34m\u001b[0m\u001b[0m\n\u001b[0m\u001b[1;32m      7\u001b[0m     \u001b[0;32mprint\u001b[0m \u001b[0mr\u001b[0m\u001b[0;34m[\u001b[0m\u001b[0;34m'doc_num'\u001b[0m\u001b[0;34m]\u001b[0m\u001b[0;34m,\u001b[0m\u001b[0;34m\u001b[0m\u001b[0m\n\u001b[1;32m      8\u001b[0m \u001b[0mf\u001b[0m\u001b[0;34m.\u001b[0m\u001b[0mclose\u001b[0m\u001b[0;34m(\u001b[0m\u001b[0;34m)\u001b[0m\u001b[0;34m\u001b[0m\u001b[0m\n",
        "\u001b[0;32m/Users/richizy/anaconda/lib/python2.7/site-packages/tables/tableExtension.so\u001b[0m in \u001b[0;36mtables.tableExtension.Row.__next__ (tables/tableExtension.c:8386)\u001b[0;34m()\u001b[0m\n",
        "\u001b[0;32m/Users/richizy/anaconda/lib/python2.7/site-packages/tables/tableExtension.so\u001b[0m in \u001b[0;36mtables.tableExtension.Row.__next__coords (tables/tableExtension.c:9375)\u001b[0;34m()\u001b[0m\n",
        "\u001b[0;31mTypeError\u001b[0m: sequence index must be integer, not 'slice'"
       ]
      }
     ],
     "prompt_number": 10
    },
    {
     "cell_type": "code",
     "collapsed": false,
     "input": [
      "for x in a:\n",
      "    print x, "
     ],
     "language": "python",
     "metadata": {},
     "outputs": [
      {
       "output_type": "stream",
       "stream": "stdout",
       "text": [
        "0 0\n"
       ]
      }
     ],
     "prompt_number": 28
    },
    {
     "cell_type": "code",
     "collapsed": false,
     "input": [
      "import tables as tb\n",
      "f = tb.openFile('corpus.h5', 'r')\n",
      "t = f.root.table\n",
      "\n",
      "a = t[:3]\n",
      "\n",
      "f.close()"
     ],
     "language": "python",
     "metadata": {},
     "outputs": [],
     "prompt_number": 3
    },
    {
     "cell_type": "code",
     "collapsed": false,
     "input": [
      "# new_dt = np.dtype([('doc_id', 'u4'), ('word', 'u4'), \n",
      "#     ('tfidf', 'f4')], align=True)\n",
      "new_dt = np.dtype(\"u4, u4, f4\", align=True)\n",
      "Descr = tb.descr_from_dtype(new_dt)\n",
      "print new_dt\n",
      "print Descr"
     ],
     "language": "python",
     "metadata": {},
     "outputs": [
      {
       "output_type": "stream",
       "stream": "stdout",
       "text": [
        "{'names':['f0','f1','f2'], 'formats':['<u4','<u4','<f4'], 'offsets':[0,4,8], 'itemsize':12, 'aligned':True}\n",
        "({\n",
        "  \"f0\": UInt32Col(shape=(), dflt=0, pos=0),\n",
        "  \"f1\": UInt32Col(shape=(), dflt=0, pos=1),\n",
        "  \"f2\": Float32Col(shape=(), dflt=0.0, pos=2)}, '=')\n"
       ]
      }
     ],
     "prompt_number": 25
    },
    {
     "cell_type": "code",
     "collapsed": false,
     "input": [
      "# Open a file and create the Table container\n",
      "new_dt = np.dtype([('doc_id', 'u4'), ('word', 'u4'), \n",
      "    ('tfidf', 'f4')], align=True)\n",
      "# new_dt = np.dtype(\"u4, u4, f4\", align=True)\n",
      "# Descr = tb.descr_from_dtype(new_dt)\n",
      "\n",
      "f = tb.openFile('a.h5', 'w')\n",
      "t = f.createTable(f.root, 'table', b, 'train set', \n",
      "    filters=tb.Filters(5, 'blosc'), )\n",
      "\n",
      "r = t.row\n",
      "for i in xrange(20):\n",
      "    r['doc_id'] = i\n",
      "    r['word'] = randint(1000000)\n",
      "    r['tfidf'] = rand()\n",
      "#     r['f0'] = i\n",
      "#     r['f1'] = randint(1000000)\n",
      "#     r['f2'] = rand()\n",
      "    r.append()\n",
      "t.flush()\n",
      "\n",
      "# record array\n",
      "ra = t[0]\n",
      "\n",
      "f.close()"
     ],
     "language": "python",
     "metadata": {},
     "outputs": [],
     "prompt_number": 87
    },
    {
     "cell_type": "code",
     "collapsed": false,
     "input": [
      "print new_dt\n",
      "print \"aligned?\", new_dt.isalignedstruct\n",
      "print ra.dtype\n",
      "print \"aligned?\", ra.dtype.isalignedstruct"
     ],
     "language": "python",
     "metadata": {},
     "outputs": [
      {
       "output_type": "stream",
       "stream": "stdout",
       "text": [
        "{'names':['doc_id','word','tfidf'], 'formats':['<u4','<u4','<f4'], 'offsets':[0,4,8], 'itemsize':12, 'aligned':True}\n",
        "aligned? True\n",
        "[('doc_id', '<u4'), ('word', '<u4'), ('tfidf', '<f4')]\n",
        "aligned? False\n"
       ]
      }
     ],
     "prompt_number": 88
    },
    {
     "cell_type": "code",
     "collapsed": false,
     "input": [
      "b = np.empty(1, dtype=new_dt)\n",
      "print b\n",
      "print\n",
      "b['doc_id'] = 0\n",
      "b['word'] = 60\n",
      "b['tfidf'] = 3.14\n",
      "print b"
     ],
     "language": "python",
     "metadata": {},
     "outputs": [
      {
       "output_type": "stream",
       "stream": "stdout",
       "text": [
        "[(0L, 2684354560L, 4.231012902101126e-29)]\n",
        "\n",
        "[(0L, 60L, 3.140000104904175)]\n"
       ]
      }
     ],
     "prompt_number": 81
    },
    {
     "cell_type": "code",
     "collapsed": false,
     "input": [
      "c = np.empty(0, dtype=new_dt)\n",
      "print c.dtype"
     ],
     "language": "python",
     "metadata": {},
     "outputs": [
      {
       "output_type": "stream",
       "stream": "stdout",
       "text": [
        "{'names':['doc_id','word','tfidf'], 'formats':['<u4','<u4','<f4'], 'offsets':[0,4,8], 'itemsize':12, 'aligned':True}\n"
       ]
      }
     ],
     "prompt_number": 84
    },
    {
     "cell_type": "code",
     "collapsed": false,
     "input": [
      "%load_ext cythonmagic"
     ],
     "language": "python",
     "metadata": {},
     "outputs": [],
     "prompt_number": 1
    },
    {
     "cell_type": "code",
     "collapsed": false,
     "input": [
      "%%cython -f -c=-O3\n",
      "import numpy as np\n",
      "cimport numpy as np\n",
      "\n",
      "\n",
      "import tables as tb\n",
      "f = tb.openFile('corpus.h5', 'r')\n",
      "t = f.root.table\n",
      "\n",
      "cdef struct Word:\n",
      "    np.uint32_t doc_num, hash_id\n",
      "    np.float32_t tfidf_val\n",
      "\n",
      "def main():\n",
      "    cdef np.ndarray[Word] sa = t[:3]\n",
      "    print sa\n",
      "    print sa.dtype.descr\n",
      "    print sa.dtype.isalignedstruct\n",
      "\n",
      "main()\n",
      "f.close()"
     ],
     "language": "python",
     "metadata": {},
     "outputs": [
      {
       "output_type": "stream",
       "stream": "stdout",
       "text": [
        "[(1L, 232880L, 0.2658001184463501) (1L, 605285L, 0.9921777248382568)\n",
        " (1L, 86609L, 0.5266860723495483)]\n",
        "[('doc_num', '<u4'), ('hash_id', '<u4'), ('tfidf_val', '<f4')]\n",
        "False\n"
       ]
      }
     ],
     "prompt_number": 27
    },
    {
     "cell_type": "code",
     "collapsed": false,
     "input": [
      "import tables as tb\n",
      "f = tb.openFile('corpus.h5', 'r')\n",
      "t = f.root.table\n",
      "\n",
      "sa = t[:3]\n",
      "\n",
      "print sa\n",
      "\n",
      "\n",
      "f.close()"
     ],
     "language": "python",
     "metadata": {},
     "outputs": [
      {
       "output_type": "stream",
       "stream": "stdout",
       "text": [
        "[(0, 275625, 0.2686505301616243) (0, 998418, 0.5851455355619898)\n",
        " (0, 976588, 0.6453229763481583)]\n"
       ]
      }
     ],
     "prompt_number": 9
    },
    {
     "cell_type": "code",
     "collapsed": false,
     "input": [
      "sa.dtype.descr"
     ],
     "language": "python",
     "metadata": {},
     "outputs": [
      {
       "metadata": {},
       "output_type": "pyout",
       "prompt_number": 5,
       "text": [
        "[('doc_num', '<i4'), ('hash_id', '<i4'), ('tfidf_val', '<f8')]"
       ]
      }
     ],
     "prompt_number": 5
    }
   ],
   "metadata": {}
  }
 ]
}