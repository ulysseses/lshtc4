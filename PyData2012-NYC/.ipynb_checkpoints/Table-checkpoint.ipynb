{
 "metadata": {
  "name": ""
 },
 "nbformat": 3,
 "nbformat_minor": 0,
 "worksheets": [
  {
   "cells": [
    {
     "cell_type": "code",
     "collapsed": false,
     "input": [
      "import numpy as np\n",
      "import tables as tb"
     ],
     "language": "python",
     "metadata": {},
     "outputs": [],
     "prompt_number": 1
    },
    {
     "cell_type": "code",
     "collapsed": false,
     "input": [
      "# The description for the tabular data\n",
      "class TabularData(tb.IsDescription):\n",
      "    col1 = tb.StringCol(200)\n",
      "    col2 = tb.IntCol()\n",
      "    col3 = tb.FloatCol()"
     ],
     "language": "python",
     "metadata": {},
     "outputs": [],
     "prompt_number": 2
    },
    {
     "cell_type": "code",
     "collapsed": false,
     "input": [
      "# Open a file and create the Table container\n",
      "f = tb.openFile('atable.h5', 'w')\n",
      "t = f.createTable(f.root, 'table', TabularData, 'table title', filters=tb.Filters(5, 'blosc'))"
     ],
     "language": "python",
     "metadata": {},
     "outputs": [],
     "prompt_number": 3
    },
    {
     "cell_type": "code",
     "collapsed": false,
     "input": [
      "t"
     ],
     "language": "python",
     "metadata": {},
     "outputs": [
      {
       "metadata": {},
       "output_type": "pyout",
       "prompt_number": 4,
       "text": [
        "/table (Table(0,), shuffle, blosc(5)) 'table title'\n",
        "  description := {\n",
        "  \"col1\": StringCol(itemsize=200, shape=(), dflt='', pos=0),\n",
        "  \"col2\": Int32Col(shape=(), dflt=0, pos=1),\n",
        "  \"col3\": Float64Col(shape=(), dflt=0.0, pos=2)}\n",
        "  byteorder := 'little'\n",
        "  chunkshape := (309,)"
       ]
      }
     ],
     "prompt_number": 4
    },
    {
     "cell_type": "code",
     "collapsed": false,
     "input": [
      "#  Fill the table with some 1 million rows\n",
      "from time import time\n",
      "t0 = time()\n",
      "r = t.row\n",
      "for i in xrange(1000*1000):\n",
      "    r['col1'] = str(i)\n",
      "    r['col2'] = i + 1\n",
      "    r['col3'] = i * (i + 1)\n",
      "    r.append()\n",
      "t.flush()\n",
      "print \"Insert time: %.3fs\" % (time()-t0,) "
     ],
     "language": "python",
     "metadata": {},
     "outputs": [
      {
       "output_type": "stream",
       "stream": "stdout",
       "text": [
        "Insert time: 1.731s\n"
       ]
      }
     ],
     "prompt_number": 5
    },
    {
     "cell_type": "code",
     "collapsed": false,
     "input": [
      "t"
     ],
     "language": "python",
     "metadata": {},
     "outputs": [
      {
       "metadata": {},
       "output_type": "pyout",
       "prompt_number": 6,
       "text": [
        "/table (Table(1000000,), shuffle, blosc(5)) 'table title'\n",
        "  description := {\n",
        "  \"col1\": StringCol(itemsize=200, shape=(), dflt='', pos=0),\n",
        "  \"col2\": Int32Col(shape=(), dflt=0, pos=1),\n",
        "  \"col3\": Float64Col(shape=(), dflt=0.0, pos=2)}\n",
        "  byteorder := 'little'\n",
        "  chunkshape := (309,)"
       ]
      }
     ],
     "prompt_number": 6
    },
    {
     "cell_type": "code",
     "collapsed": false,
     "input": [
      "# Size on disk\n",
      "!ls -lh atable.h5"
     ],
     "language": "python",
     "metadata": {},
     "outputs": [
      {
       "output_type": "stream",
       "stream": "stdout",
       "text": [
        "-rw-r--r--  1 richizy  staff   4.9M Feb 17 14:53 atable.h5\r\n"
       ]
      }
     ],
     "prompt_number": 7
    },
    {
     "cell_type": "code",
     "collapsed": false,
     "input": [
      "# Real size\n",
      "np.prod(t.shape) * t.dtype.itemsize / 2**20."
     ],
     "language": "python",
     "metadata": {},
     "outputs": [
      {
       "metadata": {},
       "output_type": "pyout",
       "prompt_number": 8,
       "text": [
        "202.178955078125"
       ]
      }
     ],
     "prompt_number": 8
    },
    {
     "cell_type": "code",
     "collapsed": false,
     "input": [
      "# Do a query (regular)\n",
      "%time [r['col1'] for r in t if r['col2'] < 10]"
     ],
     "language": "python",
     "metadata": {},
     "outputs": [
      {
       "output_type": "stream",
       "stream": "stdout",
       "text": [
        "CPU times: user 506 ms, sys: 14.2 ms, total: 520 ms\n",
        "Wall time: 525 ms\n"
       ]
      },
      {
       "metadata": {},
       "output_type": "pyout",
       "prompt_number": 9,
       "text": [
        "['0', '1', '2', '3', '4', '5', '6', '7', '8']"
       ]
      }
     ],
     "prompt_number": 9
    },
    {
     "cell_type": "code",
     "collapsed": false,
     "input": [
      "# Repeat the query, but using in-kernel method\n",
      "%time [r['col1'] for r in t.where('col2 < 10')]"
     ],
     "language": "python",
     "metadata": {},
     "outputs": [
      {
       "output_type": "stream",
       "stream": "stdout",
       "text": [
        "CPU times: user 365 ms, sys: 11.5 ms, total: 376 ms\n",
        "Wall time: 379 ms\n"
       ]
      },
      {
       "metadata": {},
       "output_type": "pyout",
       "prompt_number": 10,
       "text": [
        "['0', '1', '2', '3', '4', '5', '6', '7', '8']"
       ]
      }
     ],
     "prompt_number": 10
    },
    {
     "cell_type": "code",
     "collapsed": false,
     "input": [
      "# Performing complex conditions (regular query)\n",
      "%time [r['col1'] for r in t if r['col2'] < 10 and r['col3'] < 10]"
     ],
     "language": "python",
     "metadata": {},
     "outputs": [
      {
       "output_type": "stream",
       "stream": "stdout",
       "text": [
        "CPU times: user 495 ms, sys: 9.47 ms, total: 505 ms\n",
        "Wall time: 505 ms\n"
       ]
      },
      {
       "metadata": {},
       "output_type": "pyout",
       "prompt_number": 11,
       "text": [
        "['0', '1', '2']"
       ]
      }
     ],
     "prompt_number": 11
    },
    {
     "cell_type": "code",
     "collapsed": false,
     "input": [
      "# Complex, in-kernel queries\n",
      "%time [r['col1'] for r in t.where('(col2 < 10) & (col3 < 10)')]"
     ],
     "language": "python",
     "metadata": {},
     "outputs": [
      {
       "output_type": "stream",
       "stream": "stdout",
       "text": [
        "CPU times: user 360 ms, sys: 9.94 ms, total: 370 ms\n",
        "Wall time: 371 ms\n"
       ]
      },
      {
       "metadata": {},
       "output_type": "pyout",
       "prompt_number": 12,
       "text": [
        "['0', '1', '2']"
       ]
      }
     ],
     "prompt_number": 12
    },
    {
     "cell_type": "code",
     "collapsed": false,
     "input": [
      "# Get a structured array out of disk\n",
      "sa = t[:]\n",
      "sa"
     ],
     "language": "python",
     "metadata": {},
     "outputs": [
      {
       "metadata": {},
       "output_type": "pyout",
       "prompt_number": 13,
       "text": [
        "array([('0', 1, 0.0), ('1', 2, 2.0), ('2', 3, 6.0), ...,\n",
        "       ('999997', 999998, 999995000006.0),\n",
        "       ('999998', 999999, 999997000002.0),\n",
        "       ('999999', 1000000, 999999000000.0)], \n",
        "      dtype=[('col1', 'S200'), ('col2', '<i4'), ('col3', '<f8')])"
       ]
      }
     ],
     "prompt_number": 13
    },
    {
     "cell_type": "code",
     "collapsed": false,
     "input": [
      "# Perform the query\n",
      "%time sa[((sa['col2'] < 10) & (sa['col3'] < 10))]['col1']"
     ],
     "language": "python",
     "metadata": {},
     "outputs": [
      {
       "output_type": "stream",
       "stream": "stdout",
       "text": [
        "CPU times: user 42.3 ms, sys: 2.02 ms, total: 44.3 ms\n",
        "Wall time: 43.3 ms\n"
       ]
      },
      {
       "metadata": {},
       "output_type": "pyout",
       "prompt_number": 14,
       "text": [
        "array(['0', '1', '2'], \n",
        "      dtype='|S200')"
       ]
      }
     ],
     "prompt_number": 14
    },
    {
     "cell_type": "code",
     "collapsed": false,
     "input": [
      "# Create an index for the on-disk table\n",
      "%time t.cols.col2.createCSIndex()"
     ],
     "language": "python",
     "metadata": {},
     "outputs": [
      {
       "output_type": "stream",
       "stream": "stdout",
       "text": [
        "CPU times: user 828 ms, sys: 57.5 ms, total: 886 ms\n",
        "Wall time: 896 ms\n"
       ]
      },
      {
       "metadata": {},
       "output_type": "pyout",
       "prompt_number": 15,
       "text": [
        "1000000"
       ]
      }
     ],
     "prompt_number": 15
    },
    {
     "cell_type": "code",
     "collapsed": false,
     "input": [
      "# Repeat the complex query (indexed)\n",
      "%time [r['col1'] for r in t.where('(col2 < 10) & (col3 < 10)')]"
     ],
     "language": "python",
     "metadata": {},
     "outputs": [
      {
       "output_type": "stream",
       "stream": "stdout",
       "text": [
        "CPU times: user 5.07 ms, sys: 1.63 ms, total: 6.7 ms\n",
        "Wall time: 7.98 ms\n"
       ]
      },
      {
       "metadata": {},
       "output_type": "pyout",
       "prompt_number": 16,
       "text": [
        "['0', '1', '2']"
       ]
      }
     ],
     "prompt_number": 16
    },
    {
     "cell_type": "code",
     "collapsed": false,
     "input": [
      "f.close()"
     ],
     "language": "python",
     "metadata": {},
     "outputs": [],
     "prompt_number": 17
    },
    {
     "cell_type": "code",
     "collapsed": false,
     "input": [],
     "language": "python",
     "metadata": {},
     "outputs": []
    }
   ],
   "metadata": {}
  }
 ]
}