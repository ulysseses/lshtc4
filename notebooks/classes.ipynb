{
 "metadata": {
  "name": ""
 },
 "nbformat": 3,
 "nbformat_minor": 0,
 "worksheets": [
  {
   "cells": [
    {
     "cell_type": "code",
     "collapsed": false,
     "input": [
      "%load_ext cythonmagic"
     ],
     "language": "python",
     "metadata": {},
     "outputs": [],
     "prompt_number": 1
    },
    {
     "cell_type": "code",
     "collapsed": false,
     "input": [
      "%reload_ext cythonmagic"
     ],
     "language": "python",
     "metadata": {},
     "outputs": [],
     "prompt_number": 3
    },
    {
     "cell_type": "code",
     "collapsed": false,
     "input": [
      "%%cython -f\n",
      "\n",
      "cdef extern from \"<algorithm>\" namespace \"std\":\n",
      "    void partial_sort[RandomAccessIterator](RandomAccessIterator first, RandomAccessIterator middle, RandomAccessIterator last)\n",
      "    void partial_sort[RandomAccessIterator, Compare](RandomAccessIterator first, RandomAccessIterator middle, RandomAccessIterator last, Compare comp)\n"
     ],
     "language": "python",
     "metadata": {},
     "outputs": [
      {
       "ename": "CompileError",
       "evalue": "command 'gcc' failed with exit status 1",
       "output_type": "pyerr",
       "traceback": [
        "\u001b[0;31m---------------------------------------------------------------------------\u001b[0m\n\u001b[0;31mCompileError\u001b[0m                              Traceback (most recent call last)",
        "\u001b[0;32m<ipython-input-5-13105c307ee3>\u001b[0m in \u001b[0;36m<module>\u001b[0;34m()\u001b[0m\n\u001b[0;32m----> 1\u001b[0;31m \u001b[0mget_ipython\u001b[0m\u001b[0;34m(\u001b[0m\u001b[0;34m)\u001b[0m\u001b[0;34m.\u001b[0m\u001b[0mrun_cell_magic\u001b[0m\u001b[0;34m(\u001b[0m\u001b[0;34mu'cython'\u001b[0m\u001b[0;34m,\u001b[0m \u001b[0;34mu'-f'\u001b[0m\u001b[0;34m,\u001b[0m \u001b[0;34mu'\\ncdef extern from \"<algorithm>\" namespace \"std\":\\n    void partial_sort[RandomAccessIterator](RandomAccessIterator first, RandomAccessIterator middle, RandomAccessIterator last)\\n    void partial_sort[RandomAccessIterator, Compare](RandomAccessIterator first, RandomAccessIterator middle, RandomAccessIterator last, Compare comp)'\u001b[0m\u001b[0;34m)\u001b[0m\u001b[0;34m\u001b[0m\u001b[0m\n\u001b[0m",
        "\u001b[0;32m/Users/richizy/anaconda/lib/python2.7/site-packages/IPython/core/interactiveshell.pyc\u001b[0m in \u001b[0;36mrun_cell_magic\u001b[0;34m(self, magic_name, line, cell)\u001b[0m\n\u001b[1;32m   2127\u001b[0m             \u001b[0mmagic_arg_s\u001b[0m \u001b[0;34m=\u001b[0m \u001b[0mself\u001b[0m\u001b[0;34m.\u001b[0m\u001b[0mvar_expand\u001b[0m\u001b[0;34m(\u001b[0m\u001b[0mline\u001b[0m\u001b[0;34m,\u001b[0m \u001b[0mstack_depth\u001b[0m\u001b[0;34m)\u001b[0m\u001b[0;34m\u001b[0m\u001b[0m\n\u001b[1;32m   2128\u001b[0m             \u001b[0;32mwith\u001b[0m \u001b[0mself\u001b[0m\u001b[0;34m.\u001b[0m\u001b[0mbuiltin_trap\u001b[0m\u001b[0;34m:\u001b[0m\u001b[0;34m\u001b[0m\u001b[0m\n\u001b[0;32m-> 2129\u001b[0;31m                 \u001b[0mresult\u001b[0m \u001b[0;34m=\u001b[0m \u001b[0mfn\u001b[0m\u001b[0;34m(\u001b[0m\u001b[0mmagic_arg_s\u001b[0m\u001b[0;34m,\u001b[0m \u001b[0mcell\u001b[0m\u001b[0;34m)\u001b[0m\u001b[0;34m\u001b[0m\u001b[0m\n\u001b[0m\u001b[1;32m   2130\u001b[0m             \u001b[0;32mreturn\u001b[0m \u001b[0mresult\u001b[0m\u001b[0;34m\u001b[0m\u001b[0m\n\u001b[1;32m   2131\u001b[0m \u001b[0;34m\u001b[0m\u001b[0m\n",
        "\u001b[0;32m/Users/richizy/anaconda/lib/python2.7/site-packages/IPython/extensions/cythonmagic.pyc\u001b[0m in \u001b[0;36mcython\u001b[0;34m(self, line, cell)\u001b[0m\n",
        "\u001b[0;32m/Users/richizy/anaconda/lib/python2.7/site-packages/IPython/core/magic.pyc\u001b[0m in \u001b[0;36m<lambda>\u001b[0;34m(f, *a, **k)\u001b[0m\n\u001b[1;32m    189\u001b[0m     \u001b[0;31m# but it's overkill for just that one bit of state.\u001b[0m\u001b[0;34m\u001b[0m\u001b[0;34m\u001b[0m\u001b[0m\n\u001b[1;32m    190\u001b[0m     \u001b[0;32mdef\u001b[0m \u001b[0mmagic_deco\u001b[0m\u001b[0;34m(\u001b[0m\u001b[0marg\u001b[0m\u001b[0;34m)\u001b[0m\u001b[0;34m:\u001b[0m\u001b[0;34m\u001b[0m\u001b[0m\n\u001b[0;32m--> 191\u001b[0;31m         \u001b[0mcall\u001b[0m \u001b[0;34m=\u001b[0m \u001b[0;32mlambda\u001b[0m \u001b[0mf\u001b[0m\u001b[0;34m,\u001b[0m \u001b[0;34m*\u001b[0m\u001b[0ma\u001b[0m\u001b[0;34m,\u001b[0m \u001b[0;34m**\u001b[0m\u001b[0mk\u001b[0m\u001b[0;34m:\u001b[0m \u001b[0mf\u001b[0m\u001b[0;34m(\u001b[0m\u001b[0;34m*\u001b[0m\u001b[0ma\u001b[0m\u001b[0;34m,\u001b[0m \u001b[0;34m**\u001b[0m\u001b[0mk\u001b[0m\u001b[0;34m)\u001b[0m\u001b[0;34m\u001b[0m\u001b[0m\n\u001b[0m\u001b[1;32m    192\u001b[0m \u001b[0;34m\u001b[0m\u001b[0m\n\u001b[1;32m    193\u001b[0m         \u001b[0;32mif\u001b[0m \u001b[0mcallable\u001b[0m\u001b[0;34m(\u001b[0m\u001b[0marg\u001b[0m\u001b[0;34m)\u001b[0m\u001b[0;34m:\u001b[0m\u001b[0;34m\u001b[0m\u001b[0m\n",
        "\u001b[0;32m/Users/richizy/anaconda/lib/python2.7/site-packages/IPython/extensions/cythonmagic.pyc\u001b[0m in \u001b[0;36mcython\u001b[0;34m(self, line, cell)\u001b[0m\n\u001b[1;32m    249\u001b[0m             \u001b[0mbuild_extension\u001b[0m\u001b[0;34m.\u001b[0m\u001b[0mbuild_temp\u001b[0m \u001b[0;34m=\u001b[0m \u001b[0mos\u001b[0m\u001b[0;34m.\u001b[0m\u001b[0mpath\u001b[0m\u001b[0;34m.\u001b[0m\u001b[0mdirname\u001b[0m\u001b[0;34m(\u001b[0m\u001b[0mpyx_file\u001b[0m\u001b[0;34m)\u001b[0m\u001b[0;34m\u001b[0m\u001b[0m\n\u001b[1;32m    250\u001b[0m             \u001b[0mbuild_extension\u001b[0m\u001b[0;34m.\u001b[0m\u001b[0mbuild_lib\u001b[0m  \u001b[0;34m=\u001b[0m \u001b[0mlib_dir\u001b[0m\u001b[0;34m\u001b[0m\u001b[0m\n\u001b[0;32m--> 251\u001b[0;31m             \u001b[0mbuild_extension\u001b[0m\u001b[0;34m.\u001b[0m\u001b[0mrun\u001b[0m\u001b[0;34m(\u001b[0m\u001b[0;34m)\u001b[0m\u001b[0;34m\u001b[0m\u001b[0m\n\u001b[0m\u001b[1;32m    252\u001b[0m             \u001b[0mself\u001b[0m\u001b[0;34m.\u001b[0m\u001b[0m_code_cache\u001b[0m\u001b[0;34m[\u001b[0m\u001b[0mkey\u001b[0m\u001b[0;34m]\u001b[0m \u001b[0;34m=\u001b[0m \u001b[0mmodule_name\u001b[0m\u001b[0;34m\u001b[0m\u001b[0m\n\u001b[1;32m    253\u001b[0m \u001b[0;34m\u001b[0m\u001b[0m\n",
        "\u001b[0;32m/Users/richizy/anaconda/python.app/Contents/lib/python2.7/distutils/command/build_ext.pyc\u001b[0m in \u001b[0;36mrun\u001b[0;34m(self)\u001b[0m\n\u001b[1;32m    335\u001b[0m \u001b[0;34m\u001b[0m\u001b[0m\n\u001b[1;32m    336\u001b[0m         \u001b[0;31m# Now actually compile and link everything.\u001b[0m\u001b[0;34m\u001b[0m\u001b[0;34m\u001b[0m\u001b[0m\n\u001b[0;32m--> 337\u001b[0;31m         \u001b[0mself\u001b[0m\u001b[0;34m.\u001b[0m\u001b[0mbuild_extensions\u001b[0m\u001b[0;34m(\u001b[0m\u001b[0;34m)\u001b[0m\u001b[0;34m\u001b[0m\u001b[0m\n\u001b[0m\u001b[1;32m    338\u001b[0m \u001b[0;34m\u001b[0m\u001b[0m\n\u001b[1;32m    339\u001b[0m     \u001b[0;32mdef\u001b[0m \u001b[0mcheck_extensions_list\u001b[0m\u001b[0;34m(\u001b[0m\u001b[0mself\u001b[0m\u001b[0;34m,\u001b[0m \u001b[0mextensions\u001b[0m\u001b[0;34m)\u001b[0m\u001b[0;34m:\u001b[0m\u001b[0;34m\u001b[0m\u001b[0m\n",
        "\u001b[0;32m/Users/richizy/anaconda/python.app/Contents/lib/python2.7/distutils/command/build_ext.pyc\u001b[0m in \u001b[0;36mbuild_extensions\u001b[0;34m(self)\u001b[0m\n\u001b[1;32m    444\u001b[0m \u001b[0;34m\u001b[0m\u001b[0m\n\u001b[1;32m    445\u001b[0m         \u001b[0;32mfor\u001b[0m \u001b[0mext\u001b[0m \u001b[0;32min\u001b[0m \u001b[0mself\u001b[0m\u001b[0;34m.\u001b[0m\u001b[0mextensions\u001b[0m\u001b[0;34m:\u001b[0m\u001b[0;34m\u001b[0m\u001b[0m\n\u001b[0;32m--> 446\u001b[0;31m             \u001b[0mself\u001b[0m\u001b[0;34m.\u001b[0m\u001b[0mbuild_extension\u001b[0m\u001b[0;34m(\u001b[0m\u001b[0mext\u001b[0m\u001b[0;34m)\u001b[0m\u001b[0;34m\u001b[0m\u001b[0m\n\u001b[0m\u001b[1;32m    447\u001b[0m \u001b[0;34m\u001b[0m\u001b[0m\n\u001b[1;32m    448\u001b[0m     \u001b[0;32mdef\u001b[0m \u001b[0mbuild_extension\u001b[0m\u001b[0;34m(\u001b[0m\u001b[0mself\u001b[0m\u001b[0;34m,\u001b[0m \u001b[0mext\u001b[0m\u001b[0;34m)\u001b[0m\u001b[0;34m:\u001b[0m\u001b[0;34m\u001b[0m\u001b[0m\n",
        "\u001b[0;32m/Users/richizy/anaconda/python.app/Contents/lib/python2.7/distutils/command/build_ext.pyc\u001b[0m in \u001b[0;36mbuild_extension\u001b[0;34m(self, ext)\u001b[0m\n\u001b[1;32m    494\u001b[0m                                          \u001b[0mdebug\u001b[0m\u001b[0;34m=\u001b[0m\u001b[0mself\u001b[0m\u001b[0;34m.\u001b[0m\u001b[0mdebug\u001b[0m\u001b[0;34m,\u001b[0m\u001b[0;34m\u001b[0m\u001b[0m\n\u001b[1;32m    495\u001b[0m                                          \u001b[0mextra_postargs\u001b[0m\u001b[0;34m=\u001b[0m\u001b[0mextra_args\u001b[0m\u001b[0;34m,\u001b[0m\u001b[0;34m\u001b[0m\u001b[0m\n\u001b[0;32m--> 496\u001b[0;31m                                          depends=ext.depends)\n\u001b[0m\u001b[1;32m    497\u001b[0m \u001b[0;34m\u001b[0m\u001b[0m\n\u001b[1;32m    498\u001b[0m         \u001b[0;31m# XXX -- this is a Vile HACK!\u001b[0m\u001b[0;34m\u001b[0m\u001b[0;34m\u001b[0m\u001b[0m\n",
        "\u001b[0;32m/Users/richizy/anaconda/python.app/Contents/lib/python2.7/distutils/ccompiler.pyc\u001b[0m in \u001b[0;36mcompile\u001b[0;34m(self, sources, output_dir, macros, include_dirs, debug, extra_preargs, extra_postargs, depends)\u001b[0m\n\u001b[1;32m    572\u001b[0m             \u001b[0;32mexcept\u001b[0m \u001b[0mKeyError\u001b[0m\u001b[0;34m:\u001b[0m\u001b[0;34m\u001b[0m\u001b[0m\n\u001b[1;32m    573\u001b[0m                 \u001b[0;32mcontinue\u001b[0m\u001b[0;34m\u001b[0m\u001b[0m\n\u001b[0;32m--> 574\u001b[0;31m             \u001b[0mself\u001b[0m\u001b[0;34m.\u001b[0m\u001b[0m_compile\u001b[0m\u001b[0;34m(\u001b[0m\u001b[0mobj\u001b[0m\u001b[0;34m,\u001b[0m \u001b[0msrc\u001b[0m\u001b[0;34m,\u001b[0m \u001b[0mext\u001b[0m\u001b[0;34m,\u001b[0m \u001b[0mcc_args\u001b[0m\u001b[0;34m,\u001b[0m \u001b[0mextra_postargs\u001b[0m\u001b[0;34m,\u001b[0m \u001b[0mpp_opts\u001b[0m\u001b[0;34m)\u001b[0m\u001b[0;34m\u001b[0m\u001b[0m\n\u001b[0m\u001b[1;32m    575\u001b[0m \u001b[0;34m\u001b[0m\u001b[0m\n\u001b[1;32m    576\u001b[0m         \u001b[0;31m# Return *all* object filenames, not just the ones we just built.\u001b[0m\u001b[0;34m\u001b[0m\u001b[0;34m\u001b[0m\u001b[0m\n",
        "\u001b[0;32m/Users/richizy/anaconda/python.app/Contents/lib/python2.7/distutils/unixccompiler.pyc\u001b[0m in \u001b[0;36m_compile\u001b[0;34m(self, obj, src, ext, cc_args, extra_postargs, pp_opts)\u001b[0m\n\u001b[1;32m    120\u001b[0m                        extra_postargs)\n\u001b[1;32m    121\u001b[0m         \u001b[0;32mexcept\u001b[0m \u001b[0mDistutilsExecError\u001b[0m\u001b[0;34m,\u001b[0m \u001b[0mmsg\u001b[0m\u001b[0;34m:\u001b[0m\u001b[0;34m\u001b[0m\u001b[0m\n\u001b[0;32m--> 122\u001b[0;31m             \u001b[0;32mraise\u001b[0m \u001b[0mCompileError\u001b[0m\u001b[0;34m,\u001b[0m \u001b[0mmsg\u001b[0m\u001b[0;34m\u001b[0m\u001b[0m\n\u001b[0m\u001b[1;32m    123\u001b[0m \u001b[0;34m\u001b[0m\u001b[0m\n\u001b[1;32m    124\u001b[0m     def create_static_lib(self, objects, output_libname,\n",
        "\u001b[0;31mCompileError\u001b[0m: command 'gcc' failed with exit status 1"
       ]
      },
      {
       "output_type": "stream",
       "stream": "stderr",
       "text": [
        "warning: .ipython/cython/_cython_magic_121a91d1fdd64d85c4b01e6540fd86d6.pyx:4:52: Function signature does not match previous declaration\n"
       ]
      }
     ],
     "prompt_number": 5
    },
    {
     "cell_type": "code",
     "collapsed": false,
     "input": [
      "%%cython -f\n",
      "#distutils: language = c++\n",
      "from libcpp.vector cimport vector\n",
      "from cython.operator cimport dereference as deref, preincrement as inc\n",
      "\n",
      "cdef extern from \"<algorithm>\" namespace \"std\":\n",
      "    void partial_sort_1 \"std::partial_sort\"[RandomAccessIterator](RandomAccessIterator first,\n",
      "        RandomAccessIterator middle, RandomAccessIterator last) nogil\n",
      "    void partial_sort_2 \"std::partial_sort\"[RandomAccessIterator, Compare](RandomAccessIterator first,\n",
      "        RandomAccessIterator middle, RandomAccessIterator last, Compare comp) nogil\n",
      "\n",
      "cpdef bla():\n",
      "    cdef vector[int] v\n",
      "    cdef int i = 0\n",
      "    cdef list res = []\n",
      "    v.push_back(6)\n",
      "    v.push_back(5)\n",
      "    v.push_back(4)\n",
      "    v.push_back(3)\n",
      "    v.push_back(2)\n",
      "    v.push_back(1)\n",
      "    partial_sort_1[vector[int].iterator](v.begin(), v.begin()+2, v.end())\n",
      "    for i in xrange(v.size()):\n",
      "        res.append(v[i])\n",
      "    return res\n",
      "\n",
      "print bla()\n",
      "\n",
      "ctypedef bint (*Compare)(int, int)\n",
      "\n",
      "cdef inline bint comp(int x, int y):\n",
      "    return <bint> (y < x)\n",
      "\n",
      "cpdef asd():\n",
      "    cdef vector[int] v\n",
      "    cdef int i = 0\n",
      "    cdef list res = []\n",
      "    v.push_back(1)\n",
      "    v.push_back(2)\n",
      "    v.push_back(3)\n",
      "    v.push_back(4)\n",
      "    v.push_back(5)\n",
      "    v.push_back(6)\n",
      "    partial_sort_2[vector[int].iterator, Compare](v.begin(), v.begin()+2, v.end(), comp)\n",
      "#     for i in xrange(v.size()):\n",
      "#         res.append(v[i])\n",
      "    for x in v:\n",
      "        res.append(x)\n",
      "    return res\n",
      "\n",
      "print asd()"
     ],
     "language": "python",
     "metadata": {},
     "outputs": [
      {
       "output_type": "stream",
       "stream": "stdout",
       "text": [
        "[1, 2, 6, 5, 4, 3]\n",
        "[6, 5, 1, 2, 3, 4]\n"
       ]
      }
     ],
     "prompt_number": 87
    },
    {
     "cell_type": "code",
     "collapsed": false,
     "input": [
      "%%cython -f\n",
      "\n",
      "ctypedef unsigned int uint\n",
      "\n",
      "cdef uint a = -3\n",
      "print a"
     ],
     "language": "python",
     "metadata": {},
     "outputs": [
      {
       "output_type": "stream",
       "stream": "stdout",
       "text": [
        "4294967293\n"
       ]
      }
     ],
     "prompt_number": 4
    },
    {
     "cell_type": "code",
     "collapsed": false,
     "input": [
      "%%cython -f\n",
      "import cPickle as pickle\n",
      "\n",
      "cdef class Box(object):\n",
      "    cdef a\n",
      "    def __init__(self, a):\n",
      "        self.a = a\n",
      "    def __reduce__(self):\n",
      "        return (Box, (self.a,))\n",
      "    property a:\n",
      "        def __get__(self):\n",
      "            return self.a\n",
      "        def __set__(self, b):\n",
      "            self.a = b\n",
      "\n",
      "a = Box(1)\n",
      "print \"a\", a\n",
      "s = pickle.dumps(a)\n",
      "print \"s\", s\n",
      "b = pickle.loads(s)\n",
      "print b.a\n",
      "b.a = 3\n",
      "print b.a"
     ],
     "language": "python",
     "metadata": {},
     "outputs": [
      {
       "output_type": "stream",
       "stream": "stdout",
       "text": [
        "a <_cython_magic_fd44767775291e4111583adccd9361a8.Box object at 0x109c7a7f8>\n",
        "s c_cython_magic_fd44767775291e4111583adccd9361a8\n",
        "Box\n",
        "p1\n",
        "(I1\n",
        "tRp2\n",
        ".\n",
        "1\n",
        "3\n"
       ]
      }
     ],
     "prompt_number": 9
    },
    {
     "cell_type": "code",
     "collapsed": false,
     "input": [
      "%%cython -f\n",
      "#distutils: language = c++\n",
      "from itertools import islice\n",
      "import cPickle as pickle\n",
      "\n",
      "from unordered_map cimport unordered_map\n",
      "from unordered_set cimport unordered_set\n",
      "from cython.operator cimport dereference as deref, preincrement as inc, \\\n",
      "    postincrement as inc2\n",
      "from libcpp.utility cimport pair\n",
      "\n",
      "cdef class MapContainer(object):\n",
      "    cdef unordered_map[int,int] blah\n",
      "    cdef size_t pos, size\n",
      "    cdef int a\n",
      "    def __cinit__(self, lst=None):\n",
      "        #self.blah = unordered_map[int,int]()\n",
      "        self.pos, self.size = 0, 0\n",
      "        if lst:\n",
      "            self.__unpack(lst)\n",
      "            \n",
      "    def __init__(self, heehee=True):\n",
      "        self.a = 777\n",
      "        if heehee:\n",
      "            self.change_a()\n",
      "        else:\n",
      "            self.a = 777\n",
      "    \n",
      "    def change_a(self):\n",
      "        self.a = 666\n",
      "    \n",
      "#     def __init__(self, lst=None):\n",
      "#         pass\n",
      "    \n",
      "    def __pack(self):\n",
      "        ''' helper function to pack contents '''\n",
      "        cdef unordered_map[int,int].iterator it = self.blah.begin()\n",
      "        cdef pair[int,int] fs\n",
      "        lst = []\n",
      "        while it != self.blah.end():\n",
      "            fs = deref(it)\n",
      "            inc(it)\n",
      "            lst.append((fs.first, fs.second))\n",
      "        return lst\n",
      "    \n",
      "    def __unpack(self, lst):\n",
      "        ''' helper function to unpack contents '''\n",
      "        cdef int f, s\n",
      "        for f,s in lst:\n",
      "            self.__setitem__(f, s)\n",
      "    \n",
      "    def __reduce__(self):\n",
      "        lst = self.__pack()\n",
      "        return (MapContainer, (lst,))\n",
      "    \n",
      "    def __dealloc__(self):\n",
      "        pass # blah is non-heap...?\n",
      "    \n",
      "    def __cmp__(self, MapContainer other):\n",
      "        if len(self) != len(other): return 0\n",
      "        cdef unordered_map[int,int].iterator u = self.blah.begin()\n",
      "        cdef unordered_map[int,int].iterator v = other.blah.begin()\n",
      "        cdef pair[int,int] ufs, vfs\n",
      "        cdef int uf, us, vf, vs\n",
      "        while u != self.blah.end():\n",
      "            ufs = deref(inc2(u)); vfs = deref(inc2(v))\n",
      "            if (ufs.first != vfs.first) or (ufs.second != vfs.second):\n",
      "                return 0\n",
      "            #inc(u); inc(v)\n",
      "        return 1\n",
      "    \n",
      "    def __len__(self):\n",
      "        return self.size\n",
      "    \n",
      "    def __setitem__(self, int x, int y):\n",
      "        if self.blah.find(x) == self.blah.end():\n",
      "            self.size += 1\n",
      "        self.blah[x] = y\n",
      "        \n",
      "    def __delitem__(self, int x):\n",
      "        if x in self:\n",
      "            self.blah.erase(x)\n",
      "            self.size -= 1\n",
      "        else:\n",
      "            raise KeyError('%d' % x) \n",
      "            \n",
      "    def __getitem__(self, int x):\n",
      "        return self.blah[x]\n",
      "    \n",
      "    def __contains__(self, int x):\n",
      "        cdef unordered_map[int,int].iterator got = self.blah.find(x)\n",
      "        return 1 if got != self.blah.end() else 0\n",
      "    \n",
      "    def __iter__(self):\n",
      "        return self\n",
      "    \n",
      "    def __next__(self):\n",
      "        cdef unordered_map[int,int].iterator temp\n",
      "        cdef size_t i\n",
      "        if self.pos != self.size:\n",
      "            temp = self.blah.begin()\n",
      "            for i in xrange(self.pos):\n",
      "                inc(temp)\n",
      "            self.pos += 1\n",
      "            return deref(temp).second\n",
      "        else:\n",
      "            self.pos = 0\n",
      "            raise StopIteration()\n",
      "    \n",
      "\n",
      "cdef MapContainer asdf = MapContainer()\n",
      "asdf[3] = 3\n",
      "asdf[3] += 1\n",
      "print asdf[3]\n",
      "print 3 in asdf\n",
      "for i, x in enumerate(asdf):\n",
      "    if i == 10: break\n",
      "    print i,x\n",
      "print\n",
      "print asdf.size\n",
      "\n",
      "cdef MapContainer blah = MapContainer()\n",
      "blah[3] = 3\n",
      "blah[3] += 1\n",
      "\n",
      "blah == asdf\n",
      "\n",
      "s = pickle.dumps(asdf)\n",
      "asdf2 = pickle.loads(s)\n",
      "\n",
      "for x in asdf2:\n",
      "    print 'asdf2:', x\n",
      "    \n",
      "    \n",
      "\n",
      "cdef class MapChild(MapContainer):\n",
      "    \n",
      "    def __cinit__(self):\n",
      "        super(MapChild, self).__init__(heehee=False)\n",
      "        print 'hi'\n",
      "        \n",
      "cdef MapChild foo = MapChild()\n",
      "print foo.pos\n",
      "print foo.a"
     ],
     "language": "python",
     "metadata": {},
     "outputs": [
      {
       "output_type": "stream",
       "stream": "stdout",
       "text": [
        "4\n",
        "True\n",
        "0 4\n",
        "\n",
        "1\n",
        "asdf2: 4\n",
        "hi\n",
        "0\n",
        "666\n"
       ]
      }
     ],
     "prompt_number": 97
    },
    {
     "cell_type": "code",
     "collapsed": false,
     "input": [
      "%%cython\n",
      "#distutils: language = c++\n",
      "from libcpp.vector cimport vector\n",
      "import time\n",
      "\n",
      "cdef vector[int] blah():\n",
      "    cdef vector[int] ans\n",
      "    for i in xrange(1000000):\n",
      "        ans.push_back(<int>i)\n",
      "    return ans\n",
      "\n",
      "cdef void blah2(vector[int]& ans):\n",
      "    for i in xrange(1000000):\n",
      "        ans.push_back(<int>i)\n",
      "\n",
      "\n",
      "t0 = time.time()\n",
      "cdef vector[int] asdf = blah()\n",
      "t1 = time.time()\n",
      "print \"elapsed time: %.3fus\" % ((t1 - t0)*1000000)\n",
      "\n",
      "t0 = time.time()\n",
      "cdef vector[int] asdf2\n",
      "blah2(asdf2)\n",
      "t1 = time.time()\n",
      "print \"elapsed time: %.3fus\" % ((t1 - t0)*1000000)"
     ],
     "language": "python",
     "metadata": {},
     "outputs": [
      {
       "output_type": "stream",
       "stream": "stdout",
       "text": [
        "elapsed time: 11806.965us\n",
        "elapsed time: 5658.865us\n"
       ]
      }
     ],
     "prompt_number": 56
    },
    {
     "cell_type": "code",
     "collapsed": false,
     "input": [
      "%%cython -f\n",
      "#distutils: language = c++\n",
      "from unordered_map cimport unordered_map\n",
      "from unordered_set cimport unordered_set\n",
      "\n",
      "cdef void blah(unordered_map[int, unordered_set[int]]& asdf):\n",
      "    asdf[0] = unordered_set[int]()\n",
      "    asdf[0].insert(5)\n",
      "    \n",
      "cdef unordered_map[int, unordered_set[int]] asdf\n",
      "blah(asdf)\n",
      "print asdf[0].find(5) != asdf[0].end()"
     ],
     "language": "python",
     "metadata": {},
     "outputs": [
      {
       "output_type": "stream",
       "stream": "stdout",
       "text": [
        "True\n"
       ]
      }
     ],
     "prompt_number": 61
    },
    {
     "cell_type": "code",
     "collapsed": false,
     "input": [
      "%%cython -f\n",
      "#distutils: language = c++\n",
      "import numpy as np\n",
      "cimport numpy as np\n",
      "print sizeof(np.uint32_t)\n",
      "print np.uint32\n",
      "from libcpp.utility cimport pair\n",
      "\n",
      "print type(<object>pair[int,int](3,4))\n",
      "print type((3,4))"
     ],
     "language": "python",
     "metadata": {},
     "outputs": [
      {
       "output_type": "stream",
       "stream": "stdout",
       "text": [
        "4\n",
        "<type 'numpy.uint32'>\n",
        "<type 'tuple'>\n",
        "<type 'tuple'>\n"
       ]
      }
     ],
     "prompt_number": 86
    },
    {
     "cell_type": "code",
     "collapsed": false,
     "input": [
      "def f():\n",
      "    a = range(1000000)\n",
      "    return a\n",
      "\n",
      "def g(a):\n",
      "    a = range(1000000)\n",
      "    \n",
      "x,y = None, None\n",
      "\n",
      "%timeit x = f()\n",
      "%timeit g(y)\n",
      "\n"
     ],
     "language": "python",
     "metadata": {},
     "outputs": [
      {
       "output_type": "stream",
       "stream": "stdout",
       "text": [
        "10 loops, best of 3: 17.4 ms per loop\n",
        "100 loops, best of 3: 18.8 ms per loop"
       ]
      },
      {
       "output_type": "stream",
       "stream": "stdout",
       "text": [
        "\n"
       ]
      }
     ],
     "prompt_number": 99
    }
   ],
   "metadata": {}
  }
 ]
}