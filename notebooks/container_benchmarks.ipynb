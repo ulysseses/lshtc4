{
 "metadata": {
  "name": ""
 },
 "nbformat": 3,
 "nbformat_minor": 0,
 "worksheets": [
  {
   "cells": [
    {
     "cell_type": "code",
     "collapsed": false,
     "input": [
      "%load_ext cythonmagic"
     ],
     "language": "python",
     "metadata": {},
     "outputs": [],
     "prompt_number": 1
    },
    {
     "cell_type": "code",
     "collapsed": false,
     "input": [
      "import pyximport; pyximport.install()\n",
      "pyximport.install(setup_args={'include_dirs':[np.get_include()]})"
     ],
     "language": "python",
     "metadata": {},
     "outputs": [
      {
       "metadata": {},
       "output_type": "pyout",
       "prompt_number": 2,
       "text": [
        "(None, None)"
       ]
      }
     ],
     "prompt_number": 2
    },
    {
     "cell_type": "code",
     "collapsed": false,
     "input": [
      "import foo"
     ],
     "language": "python",
     "metadata": {},
     "outputs": [],
     "prompt_number": 4
    },
    {
     "cell_type": "markdown",
     "metadata": {},
     "source": [
      "Initialization benchmark"
     ]
    },
    {
     "cell_type": "code",
     "collapsed": false,
     "input": [
      "%timeit -n 10000 foo.ndarr_time(n=1)\n",
      "%timeit -n 10000 foo.stack_carr_time(n=1)\n",
      "%timeit -n 10000 foo.heap_carr_time(n=1)\n",
      "%timeit -n 10000 foo.ndarr_ptr_time(n=1)\n",
      "%timeit -n 10000 foo.view_time(n=1)"
     ],
     "language": "python",
     "metadata": {},
     "outputs": [
      {
       "output_type": "stream",
       "stream": "stdout",
       "text": [
        "10000 loops, best of 3: 13.6 \u00b5s per loop\n",
        "10000 loops, best of 3: 304 ns per loop\n",
        "10000 loops, best of 3: 8.36 \u00b5s per loop"
       ]
      },
      {
       "output_type": "stream",
       "stream": "stdout",
       "text": [
        "\n",
        "10000 loops, best of 3: 11.9 \u00b5s per loop"
       ]
      },
      {
       "output_type": "stream",
       "stream": "stdout",
       "text": [
        "\n",
        "10000 loops, best of 3: 10.3 \u00b5s per loop"
       ]
      },
      {
       "output_type": "stream",
       "stream": "stdout",
       "text": [
        "\n"
       ]
      }
     ],
     "prompt_number": 5
    },
    {
     "cell_type": "markdown",
     "metadata": {},
     "source": [
      "Looping benchmark"
     ]
    },
    {
     "cell_type": "code",
     "collapsed": false,
     "input": [
      "%timeit -n 1 foo.ndarr_time(n=100000)\n",
      "%timeit -n 1 foo.stack_carr_time(n=100000)\n",
      "%timeit -n 1 foo.heap_carr_time(n=100000)\n",
      "%timeit -n 1 foo.ndarr_ptr_time(n=100000)\n",
      "%timeit -n 1 foo.view_time(n=100000)"
     ],
     "language": "python",
     "metadata": {},
     "outputs": [
      {
       "output_type": "stream",
       "stream": "stdout",
       "text": [
        "1 loops, best of 3: 788 ms per loop\n",
        "1 loops, best of 3: 954 ns per loop\n",
        "1 loops, best of 3: 767 ms per loop"
       ]
      },
      {
       "output_type": "stream",
       "stream": "stdout",
       "text": [
        "\n",
        "1 loops, best of 3: 746 ms per loop"
       ]
      },
      {
       "output_type": "stream",
       "stream": "stdout",
       "text": [
        "\n",
        "1 loops, best of 3: 441 ms per loop"
       ]
      },
      {
       "output_type": "stream",
       "stream": "stdout",
       "text": [
        "\n"
       ]
      }
     ],
     "prompt_number": 6
    },
    {
     "cell_type": "raw",
     "metadata": {},
     "source": [
      "FOR SIZE 10,000 init and 1,000,000,000 loop\n",
      "ndarr:      13.6us init 774us loop\n",
      "stack_carr: 00.3us init 001us loop\n",
      "heap_carr:  08.4us init 759us loop\n",
      "ndarr_ptr:  11.9us init 734us loop\n",
      "view:       10.3us init 431us loop"
     ]
    },
    {
     "cell_type": "markdown",
     "metadata": {},
     "source": [
      "Conclusion: It is probably best to just use a view... but what about structured arrays???"
     ]
    },
    {
     "cell_type": "code",
     "collapsed": false,
     "input": [],
     "language": "python",
     "metadata": {},
     "outputs": []
    }
   ],
   "metadata": {}
  }
 ]
}