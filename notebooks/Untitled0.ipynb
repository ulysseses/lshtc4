{
 "metadata": {
  "name": ""
 },
 "nbformat": 3,
 "nbformat_minor": 0,
 "worksheets": [
  {
   "cells": [
    {
     "cell_type": "code",
     "collapsed": false,
     "input": [
      "%load_ext cythonmagic"
     ],
     "language": "python",
     "metadata": {},
     "outputs": [],
     "prompt_number": 1
    },
    {
     "cell_type": "code",
     "collapsed": false,
     "input": [
      "%%cython -f\n",
      "#distutils: language = c++\n",
      "from libcpp.utility cimport pair\n",
      "from cython.operator cimport dereference as deref, preincrement as inc, \\\n",
      "    postincrement as inc2\n",
      "\n",
      "cdef extern from \"<tr1/unordered_map>\" namespace \"std::tr1\":\n",
      "    cdef cppclass unordered_map[T, U]:\n",
      "        cppclass iterator:\n",
      "            pair[T, U]& operator*() nogil\n",
      "            iterator operator++() nogil\n",
      "            iterator operator--() nogil\n",
      "            bint operator==(iterator) nogil\n",
      "            bint operator!=(iterator) nogil\n",
      "        cppclass reverse_iterator:\n",
      "            pair[T, U]& operator*() nogil\n",
      "            iterator operator++() nogil\n",
      "            iterator operator--() nogil\n",
      "            bint operator==(reverse_iterator) nogil\n",
      "            bint operator!=(reverse_iterator) nogil\n",
      "        #cppclass const_iterator(iterator):\n",
      "        #    pass\n",
      "        #cppclass const_reverse_iterator(reverse_iterator):\n",
      "        #    pass\n",
      "        unordered_map() nogil except +\n",
      "        unordered_map(unordered_map&) nogil except +\n",
      "        #unordered_map(key_compare&)\n",
      "        U& operator[](T&) nogil\n",
      "        #unordered_map& operator=(unordered_map&)\n",
      "        bint operator==(unordered_map&, unordered_map&) nogil\n",
      "        bint operator!=(unordered_map&, unordered_map&) nogil\n",
      "        bint operator<(unordered_map&, unordered_map&) nogil\n",
      "        bint operator>(unordered_map&, unordered_map&) nogil\n",
      "        bint operator<=(unordered_map&, unordered_map&) nogil\n",
      "        bint operator>=(unordered_map&, unordered_map&) nogil\n",
      "        U& at(T&) nogil\n",
      "        iterator begin() nogil\n",
      "        #const_iterator begin()\n",
      "        void clear() nogil\n",
      "        size_t count(T&) nogil\n",
      "        bint empty() nogil\n",
      "        iterator end() nogil\n",
      "        #const_iterator end()\n",
      "        pair[iterator, iterator] equal_range(T&) nogil\n",
      "        #pair[const_iterator, const_iterator] equal_range(key_type&)\n",
      "        iterator erase(iterator) nogil\n",
      "        iterator erase(iterator, iterator) nogil\n",
      "        #void erase(iterator) nogil\n",
      "        #void erase(iterator, iterator) nogil\n",
      "        size_t erase(T&) nogil\n",
      "        iterator find(T&) nogil\n",
      "        #const_iterator find(key_type&)\n",
      "        pair[iterator, bint] insert(pair[T, U]) nogil # XXX pair[T,U]&\n",
      "        iterator insert(iterator, pair[T, U]) nogil # XXX pair[T,U]&\n",
      "        #void insert(input_iterator, input_iterator)\n",
      "        #key_compare key_comp()\n",
      "        iterator lower_bound(T&) nogil\n",
      "        #const_iterator lower_bound(key_type&)\n",
      "        size_t max_size() nogil\n",
      "        reverse_iterator rbegin() nogil\n",
      "        #const_reverse_iterator rbegin()\n",
      "        reverse_iterator rend() nogil\n",
      "        #const_reverse_iterator rend()\n",
      "        size_t size() nogil\n",
      "        void swap(unordered_map&) nogil\n",
      "        iterator upper_bound(T&) nogil\n",
      "        #const_iterator upper_bound(key_type&)\n",
      "        #value_compare value_comp()\n",
      "        \n",
      "cdef unordered_map[int,int] cmap\n",
      "cmap[0] = 0\n",
      "cmap[2] = 2\n",
      "cmap[1] = 1\n",
      "\n",
      "cdef unordered_map[int,int].iterator it = cmap.begin()\n",
      "print deref(it).second\n",
      "it = cmap.erase(it)\n",
      "while it != cmap.end():\n",
      "    print deref(inc2(it)).second"
     ],
     "language": "python",
     "metadata": {},
     "outputs": [
      {
       "output_type": "stream",
       "stream": "stdout",
       "text": [
        "0\n",
        "1\n",
        "2\n"
       ]
      }
     ],
     "prompt_number": 10
    },
    {
     "cell_type": "code",
     "collapsed": false,
     "input": [],
     "language": "python",
     "metadata": {},
     "outputs": []
    }
   ],
   "metadata": {}
  }
 ]
}