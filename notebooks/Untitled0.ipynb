{
 "metadata": {
  "name": ""
 },
 "nbformat": 3,
 "nbformat_minor": 0,
 "worksheets": [
  {
   "cells": [
    {
     "cell_type": "code",
     "collapsed": false,
     "input": [
      "%load_ext cythonmagic"
     ],
     "language": "python",
     "metadata": {},
     "outputs": [],
     "prompt_number": 1
    },
    {
     "cell_type": "code",
     "collapsed": false,
     "input": [
      "%%cython -f\n",
      "#distutils: language = c++\n",
      "import time\n",
      "\n",
      "from cython.operator cimport dereference as deref, preincrement as inc, \\\n",
      "    postincrement as inc2\n",
      "from libcpp.utility cimport pair\n",
      "from unordered_map cimport unordered_map\n",
      "from unordered_set cimport unordered_set\n",
      "\n",
      "cdef unordered_map[int, unordered_set[int]] cmap\n",
      "cdef unordered_set[int] cset\n",
      "\n",
      "cdef int x\n",
      "for x in xrange(1000000):\n",
      "    cset.insert(x)\n",
      "    \n",
      "cdef int t\n",
      "t0 = time.time()\n",
      "for x in cset:\n",
      "    t = x\n",
      "t1 = time.time()\n",
      "print \"time elapsed: %.3fus\" % ((t1 - t0)*1e6)\n",
      "\n",
      "t0 = time.time()\n",
      "cdef unordered_set[int].iterator it = cset.begin()\n",
      "while it != cset.end():\n",
      "    t = deref(inc2(it))\n",
      "t1 = time.time()\n",
      "print \"time elapsed: %.3fus\" % ((t1 - t0)*1e6)\n",
      "\n",
      "i = 0\n",
      "for x in cset:\n",
      "    if i == 10: break\n",
      "    i += 1\n",
      "    print x, \n",
      "print\n",
      "\n",
      "cmap[300] = cset\n",
      "cset.erase(3);\n",
      "#cset.clear()\n",
      "\n",
      "cdef pair[int, unordered_set[int]] y\n",
      "for y in cmap:\n",
      "    if y.second.find(3) == y.second.end():\n",
      "        print y.first, 'boohoo'\n",
      "    else:\n",
      "        print y.first, deref(y.second.find(3))\n",
      "\n",
      "cmap[400] = cset\n",
      "\n",
      "for y in cmap:\n",
      "    if y.second.find(3) == y.second.end():\n",
      "        print y.first, 'boohoo'\n",
      "    else:\n",
      "        print y.first, deref(y.second.find(3))\n",
      "        \n",
      "cdef unordered_set[int]* cset2ptr = &cset\n",
      "cset.erase(4)\n",
      "print \"cset has 4:\", cset.find(4) != cset.end()\n",
      "print \"cset2 has 4:\", deref(cset2ptr).find(4) != deref(cset2ptr).end()"
     ],
     "language": "python",
     "metadata": {},
     "outputs": [
      {
       "output_type": "stream",
       "stream": "stdout",
       "text": [
        "time elapsed: 1781.940us\n",
        "time elapsed: 2032.995us\n",
        "0 1 2 3 4 5 6 7 8 9\n",
        "300"
       ]
      },
      {
       "output_type": "stream",
       "stream": "stdout",
       "text": [
        " 3\n",
        "300"
       ]
      },
      {
       "output_type": "stream",
       "stream": "stdout",
       "text": [
        " 3\n",
        "400"
       ]
      },
      {
       "output_type": "stream",
       "stream": "stdout",
       "text": [
        " boohoo\n",
        "cset has 4: False\n",
        "cset2 has 4: False\n"
       ]
      }
     ],
     "prompt_number": 2
    },
    {
     "cell_type": "code",
     "collapsed": false,
     "input": [
      "%%cython -f\n",
      "#distutils: language = c++\n",
      "import time\n",
      "\n",
      "from cython.operator cimport dereference as deref, preincrement as inc, \\\n",
      "    postincrement as inc2\n",
      "from libcpp.vector cimport vector\n",
      "\n",
      "cdef vector[int] v\n",
      "v.reserve(1000)\n",
      "v[1000] = 1000 # <-- BE CAREFUL\n",
      "print v[1000]\n",
      "print v.size()\n",
      "v.push_back(666)\n",
      "print v.size()\n",
      "print v[0]\n",
      "print v[1000]"
     ],
     "language": "python",
     "metadata": {},
     "outputs": [
      {
       "output_type": "stream",
       "stream": "stdout",
       "text": [
        "1000\n",
        "0\n",
        "1\n",
        "666\n",
        "1000\n"
       ]
      }
     ],
     "prompt_number": 8
    },
    {
     "cell_type": "code",
     "collapsed": false,
     "input": [],
     "language": "python",
     "metadata": {},
     "outputs": []
    }
   ],
   "metadata": {}
  }
 ]
}