{
 "metadata": {
  "name": ""
 },
 "nbformat": 3,
 "nbformat_minor": 0,
 "worksheets": [
  {
   "cells": [
    {
     "cell_type": "markdown",
     "metadata": {},
     "source": [
      "We need to test 3 issues\n",
      "\n",
      "1. `bt = blz.btable(np.empty(0, dtype=\"u4,u4,f4\")`, but we later cast/type `bt[:]` as `Word[:]`\n",
      "2. `pair[size_t, flt][:] output = np.empty(N, dtype=\"u4,f4\")`... does this actually work?\n",
      "3. `pair[size_t, flt]` vs just another `struct { size_t blah; flt asdf; };`?"
     ]
    },
    {
     "cell_type": "code",
     "collapsed": false,
     "input": [
      "# Cython types\n",
      "'''\n",
      "struct Word:\n",
      "    size_t doc\n",
      "    size_t word\n",
      "    float tfidf\n",
      "\n",
      "struct Label:\n",
      "    size_t doc\n",
      "    size_t label\n",
      "\n",
      "struct Doc:\n",
      "    size_t word\n",
      "    size_t doc\n",
      "'''\n",
      "\n",
      "# Numpy types\n",
      "word_dt = np.dtype([(\"doc\", \"u4\"), (\"word\", \"u4\"), (\"tfidf\", \"f4\")], align=True)\n",
      "label_dt = np.dtype([(\"doc\", \"u4\"), (\"label\", \"u4\")], align=True)\n",
      "doc_dt = np.dtype([(\"word\", \"u4\"), (\"doc\", \"u4\")], align=True)"
     ],
     "language": "python",
     "metadata": {},
     "outputs": [],
     "prompt_number": 3
    },
    {
     "cell_type": "code",
     "collapsed": false,
     "input": [
      "%load_ext cythonmagic"
     ],
     "language": "python",
     "metadata": {},
     "outputs": [],
     "prompt_number": 1
    },
    {
     "cell_type": "code",
     "collapsed": false,
     "input": [
      "%%cython -f --cplus\n",
      "#distutils: language = c++\n",
      "from libcpp.utility cimport pair\n",
      "import numpy as np\n",
      "cimport numpy as np\n",
      "import blz\n",
      "\n",
      "ctypedef np.uint32_t uint\n",
      "ctypedef np.float32_t flt\n",
      "\n",
      "# Cython Types\n",
      "cdef struct Word:\n",
      "    uint doc\n",
      "    uint word\n",
      "    flt tfidf\n",
      "\n",
      "cdef struct Label:\n",
      "    uint doc\n",
      "    uint label\n",
      "\n",
      "cdef struct Doc:\n",
      "    uint word\n",
      "    uint doc\n",
      "\n",
      "# Numpy Types\n",
      "word_dt = np.dtype([(\"doc\", np.uint32), (\"word\", np.uint32), (\"tfidf\", np.float32)], align=True)\n",
      "label_dt = np.dtype([(\"doc\", np.uint32), (\"label\", np.uint32)], align=True)\n",
      "doc_dt = np.dtype([(\"word\", np.uint32), (\"doc\", np.uint32)], align=True)\n",
      "\n",
      "def main():\n",
      "    bt = blz.btable(np.empty(0, dtype=word_dt), expectedlen=10)\n",
      "    for i in xrange(10):\n",
      "        bt.append((i,i,i))\n",
      "    print bt[:].dtype\n",
      "    cdef np.ndarray[Word] npsa = bt[:]\n",
      "    cdef Word[:] wmv = npsa\n",
      "    print npsa[0].tfidf\n",
      "    print wmv[0].tfidf\n",
      "    print\n",
      "    \n",
      "    bt2 = blz.btable(np.empty(0, dtype=doc_dt), expectedlen=10)\n",
      "    for i in xrange(10):\n",
      "        bt2.append((i,i+1))\n",
      "    print bt2.dtype\n",
      "    cdef np.ndarray[Doc] npsa2 = bt2[:]\n",
      "    cdef Doc[:] dmv2 = npsa2\n",
      "    print npsa2[0].word\n",
      "    print dmv2[0].word\n",
      "    print\n",
      "    \n",
      "    # Shenanigans\n",
      "    dmv2[9] = Doc(66,66)\n",
      "    print npsa2[9].word, npsa2[9].doc\n",
      "    print\n",
      "    \n",
      "    cdef np.ndarray generic_arr = bt2[:]\n",
      "    print generic_arr['doc']\n",
      "    print\n",
      "    \n",
      "    print bt2[1][1]\n",
      "\n",
      "\n",
      "main()"
     ],
     "language": "python",
     "metadata": {},
     "outputs": [
      {
       "output_type": "stream",
       "stream": "stdout",
       "text": [
        "[('doc', '<u4'), ('word', '<u4'), ('tfidf', '<f4')]\n",
        "0.0\n",
        "0.0\n",
        "\n",
        "[('word', '<u4'), ('doc', '<u4')]\n",
        "0\n",
        "0\n",
        "\n",
        "66 66\n",
        "\n",
        "[ 1  2  3  4  5  6  7  8  9 10]\n",
        "\n",
        "2\n"
       ]
      }
     ],
     "prompt_number": 12
    },
    {
     "cell_type": "markdown",
     "metadata": {},
     "source": [
      "Thus concludes, do NOT use `pair` for Cython memoryviews!"
     ]
    }
   ],
   "metadata": {}
  }
 ]
}