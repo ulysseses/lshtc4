{
 "metadata": {
  "name": ""
 },
 "nbformat": 3,
 "nbformat_minor": 0,
 "worksheets": [
  {
   "cells": [
    {
     "cell_type": "code",
     "collapsed": false,
     "input": [
      "%load_ext cythonmagic"
     ],
     "language": "python",
     "metadata": {},
     "outputs": [],
     "prompt_number": 1
    },
    {
     "cell_type": "code",
     "collapsed": false,
     "input": [
      "%%cython -f\n",
      "#distutils: language = c++\n",
      "import time\n",
      "\n",
      "from cython.operator cimport dereference as deref, preincrement as inc, \\\n",
      "    postincrement as inc2\n",
      "from libcpp.utility cimport pair\n",
      "from unordered_map cimport unordered_map\n",
      "from unordered_set cimport unordered_set\n",
      "\n",
      "cdef unordered_map[int, unordered_set[int]] cmap\n",
      "cdef unordered_set[int] cset\n",
      "\n",
      "cdef int x\n",
      "for x in xrange(1000000):\n",
      "    cset.insert(x)\n",
      "    \n",
      "cdef int t\n",
      "t0 = time.time()\n",
      "for x in cset:\n",
      "    t = x\n",
      "t1 = time.time()\n",
      "print \"time elapsed: %.3fus\" % ((t1 - t0)*1e6)\n",
      "\n",
      "t0 = time.time()\n",
      "cdef unordered_set[int].iterator it = cset.begin()\n",
      "while it != cset.end():\n",
      "    t = deref(inc2(it))\n",
      "t1 = time.time()\n",
      "print \"time elapsed: %.3fus\" % ((t1 - t0)*1e6)\n",
      "\n",
      "i = 0\n",
      "for x in cset:\n",
      "    if i == 10: break\n",
      "    i += 1\n",
      "    print x, \n",
      "print\n",
      "\n",
      "cmap[300] = cset\n",
      "cset.erase(3);\n",
      "#cset.clear()\n",
      "\n",
      "cdef pair[int, unordered_set[int]] y\n",
      "for y in cmap:\n",
      "    if y.second.find(3) == y.second.end():\n",
      "        print y.first, 'boohoo'\n",
      "    else:\n",
      "        print y.first, deref(y.second.find(3))\n",
      "\n",
      "cmap[400] = cset\n",
      "\n",
      "for y in cmap:\n",
      "    if y.second.find(3) == y.second.end():\n",
      "        print y.first, 'boohoo'\n",
      "    else:\n",
      "        print y.first, deref(y.second.find(3))\n",
      "        \n",
      "cdef unordered_set[int]* cset2ptr = &cset\n",
      "cset.erase(4)\n",
      "print \"cset has 4:\", cset.find(4) != cset.end()\n",
      "print \"cset2 has 4:\", deref(cset2ptr).find(4) != deref(cset2ptr).end()"
     ],
     "language": "python",
     "metadata": {},
     "outputs": [
      {
       "output_type": "stream",
       "stream": "stdout",
       "text": [
        "time elapsed: 1768.827us\n",
        "time elapsed: 2108.812us\n",
        "0 1 2 3 4 5 6 7 8 9\n",
        "300"
       ]
      },
      {
       "output_type": "stream",
       "stream": "stdout",
       "text": [
        " 3\n",
        "300"
       ]
      },
      {
       "output_type": "stream",
       "stream": "stdout",
       "text": [
        " 3\n",
        "400"
       ]
      },
      {
       "output_type": "stream",
       "stream": "stdout",
       "text": [
        " boohoo\n",
        "cset has 4: False\n",
        "cset2 has 4: False\n"
       ]
      }
     ],
     "prompt_number": 28
    },
    {
     "cell_type": "code",
     "collapsed": false,
     "input": [
      "%%cython -f\n",
      "#distutils: language = c++\n",
      "import time\n",
      "\n",
      "from cython.operator cimport dereference as deref, preincrement as inc, \\\n",
      "    postincrement as inc2\n",
      "from libcpp.vector cimport vector\n",
      "\n",
      "cdef vector[int] v\n",
      "v.reserve(1000)\n",
      "v[1000] = 1000 # <-- BE CAREFUL\n",
      "print v[1000]\n",
      "print v.size()\n",
      "v.push_back(666)\n",
      "print v.size()\n",
      "print v[0]\n",
      "print v[1000]"
     ],
     "language": "python",
     "metadata": {},
     "outputs": [
      {
       "output_type": "stream",
       "stream": "stdout",
       "text": [
        "1000\n",
        "0\n",
        "1\n",
        "666\n",
        "1000\n"
       ]
      }
     ],
     "prompt_number": 8
    },
    {
     "cell_type": "code",
     "collapsed": false,
     "input": [
      "%%cython -f\n",
      "import numpy as np\n",
      "cimport numpy as np\n",
      "\n",
      "cdef int[:] a = np.arange(1000000, dtype=np.int32)\n",
      "\n",
      "import time\n",
      "\n",
      "cdef int t\n",
      "t0 = time.time()\n",
      "cdef int x\n",
      "for x in a:\n",
      "    t = x\n",
      "t1 = time.time()\n",
      "print \"time elapsed: %.3fus\" % ((t1 - t0)*1e6)\n",
      "\n",
      "t0 = time.time()\n",
      "cdef size_t i\n",
      "for i in xrange(len(a)):\n",
      "    t = a[i]\n",
      "t1 = time.time()\n",
      "print \"time elapsed: %.3fus\" % ((t1 - t0)*1e6)\n",
      "\n",
      "t0 = time.time()\n",
      "cdef size_t j = 0\n",
      "cdef size_t end = len(a)\n",
      "while j != end:\n",
      "    t = a[j]\n",
      "    j += 1\n",
      "t1 = time.time()\n",
      "print \"time elapsed: %.3fus\" % ((t1 - t0)*1e6)"
     ],
     "language": "python",
     "metadata": {},
     "outputs": [
      {
       "output_type": "stream",
       "stream": "stdout",
       "text": [
        "time elapsed: 271467.924us\n",
        "time elapsed: 775.099us\n",
        "time elapsed: 756.025us\n"
       ]
      }
     ],
     "prompt_number": 18
    },
    {
     "cell_type": "code",
     "collapsed": false,
     "input": [
      "%%cython -f\n",
      "#distutils: language = c++\n",
      "from libcpp.set cimport set\n",
      "\n",
      "cdef set[int] a\n",
      "a.insert(4); a.insert(2); a.insert(1); a.insert(5)\n",
      "\n",
      "cdef int x\n",
      "for x in a:\n",
      "    print x,\n",
      "print\n",
      "\n",
      "cdef set[int] f():\n",
      "    cdef set[int] ans\n",
      "    cdef int i\n",
      "    for i in xrange(1000000):\n",
      "        ans.insert(i)\n",
      "    return ans\n",
      "\n",
      "cdef void g(set[int]& ans):\n",
      "    cdef int i\n",
      "    for i in xrange(1000000):\n",
      "        ans.insert(i)\n",
      "        \n",
      "import time\n",
      "\n",
      "cdef int t\n",
      "t0 = time.time()\n",
      "cdef set[int] u = f()\n",
      "t1 = time.time()\n",
      "print \"time elapsed: %.3fus\" % ((t1 - t0)*1e6)\n",
      "\n",
      "t0 = time.time()\n",
      "cdef set[int] v\n",
      "g(v)\n",
      "t1 = time.time()\n",
      "print \"time elapsed: %.3fus\" % ((t1 - t0)*1e6)"
     ],
     "language": "python",
     "metadata": {},
     "outputs": [
      {
       "output_type": "stream",
       "stream": "stdout",
       "text": [
        "1 2 4 5\n",
        "time elapsed: 746909.857us"
       ]
      },
      {
       "output_type": "stream",
       "stream": "stdout",
       "text": [
        "\n",
        "time elapsed: 227433.920us"
       ]
      },
      {
       "output_type": "stream",
       "stream": "stdout",
       "text": [
        "\n"
       ]
      }
     ],
     "prompt_number": 20
    },
    {
     "cell_type": "code",
     "collapsed": false,
     "input": [
      "%%cython -f\n",
      "#distutils: language = c++\n",
      "from libcpp.vector cimport vector\n",
      "from libcpp.utility cimport pair\n",
      "\n",
      "cdef vector[pair[int,int]] v\n",
      "\n",
      "cdef int i\n",
      "for i in xrange(1000000):\n",
      "    v.push_back(pair[int,int](i,i))\n",
      "    \n",
      "import time\n",
      "\n",
      "cdef pair[int,int] kv\n",
      "cdef int f,s\n",
      "t0 = time.time()\n",
      "for kv in v:\n",
      "    f = kv.first\n",
      "    s = kv.second\n",
      "t1 = time.time()\n",
      "print \"time elapsed: %.3fus\" % ((t1 - t0)*1e6)\n",
      "\n",
      "cdef int f2,s2\n",
      "t0 = time.time()\n",
      "for f,s in v:\n",
      "    f2,s2 = f,s\n",
      "t1 = time.time()\n",
      "print \"time elapsed: %.3fus\" % ((t1 - t0)*1e6)\n",
      "\n",
      "t0 = time.time()\n",
      "for f,s in v:\n",
      "    f2 = f\n",
      "    s2 = s\n",
      "t1 = time.time()\n",
      "print \"time elapsed: %.3fus\" % ((t1 - t0)*1e6)\n",
      "\n",
      "t0 = time.time()\n",
      "for i in xrange(v.size()):\n",
      "    f = v[i].first\n",
      "    s = v[i].second\n",
      "t1 = time.time()\n",
      "print \"time elapsed: %.3fus\" % ((t1 - t0)*1e6)\n",
      "\n",
      "t0 = time.time()\n",
      "for i in xrange(v.size()):\n",
      "    kv = v[i]\n",
      "    f = kv.first\n",
      "    s = kv.second\n",
      "t1 = time.time()\n",
      "print \"time elapsed: %.3fus\" % ((t1 - t0)*1e6)"
     ],
     "language": "python",
     "metadata": {},
     "outputs": [
      {
       "output_type": "stream",
       "stream": "stdout",
       "text": [
        "time elapsed: 1734.018us\n",
        "time elapsed: 42266.846us\n",
        "time elapsed: 41825.056us"
       ]
      },
      {
       "output_type": "stream",
       "stream": "stdout",
       "text": [
        "\n",
        "time elapsed: 1080.036us\n",
        "time elapsed: 2427.101us\n"
       ]
      }
     ],
     "prompt_number": 27
    },
    {
     "cell_type": "code",
     "collapsed": false,
     "input": [
      "def f():\n",
      "    a = range(1000000)\n",
      "    for i in xrange(1000000):\n",
      "        a[i] += 1\n",
      "    for i in xrange(1000000):\n",
      "        a[i] -= 1\n",
      "\n",
      "def g():\n",
      "    a = range(1000000)\n",
      "    for i in xrange(1000000):\n",
      "        a[i] += 1\n",
      "        a[i] -= 1\n",
      "        \n",
      "%timeit f()\n",
      "%timeit g()"
     ],
     "language": "python",
     "metadata": {},
     "outputs": [
      {
       "output_type": "stream",
       "stream": "stdout",
       "text": [
        "1 loops, best of 3: 237 ms per loop\n",
        "1 loops, best of 3: 252 ms per loop"
       ]
      },
      {
       "output_type": "stream",
       "stream": "stdout",
       "text": [
        "\n"
       ]
      }
     ],
     "prompt_number": 30
    },
    {
     "cell_type": "code",
     "collapsed": false,
     "input": [
      "%%cython -f\n",
      "#distutils: language = c++\n",
      "\n",
      "cdef extern from \"<algorithm>\" namespace \"std\":\n",
      "    ForwardIterator max_element_1 \"std::max_element\"[ForwardIterator](ForwardIterator first, ForwardIterator last)\n",
      "    ForwardIterator max_element_2 \"std::max_element\"[ForwardIterator, Compare](ForwardIterator first, ForwardIterator last,\n",
      "        Compare comp)\n",
      "    void partial_sort_1 \"std::partial_sort\"[RandomAccessIterator](RandomAccessIterator first,\\\n",
      "    \tRandomAccessIterator middle, RandomAccessIterator last)\n",
      "    void partial_sort_2 \"std::partial_sort\"[RandomAccessIterator, Compare]\\\n",
      "    \t(RandomAccessIterator first, RandomAccessIterator middle, RandomAccessIterator last,\\\n",
      "    \t\tCompare comp)"
     ],
     "language": "python",
     "metadata": {},
     "outputs": [],
     "prompt_number": 3
    },
    {
     "cell_type": "code",
     "collapsed": false,
     "input": [
      "%load_ext cythonmagic"
     ],
     "language": "python",
     "metadata": {},
     "outputs": [],
     "prompt_number": 1
    },
    {
     "cell_type": "code",
     "collapsed": false,
     "input": [
      "%%cython -f --cplus\n",
      "#distutils: language = c++\n",
      "from libcpp.vector cimport vector\n",
      "import time\n",
      "\n",
      "cdef vector[size_t] v\n",
      "\n",
      "cdef size_t i\n",
      "for i in xrange(10000000):\n",
      "    v.push_back(i)\n",
      "\n",
      "cdef size_t a\n",
      "t0 = time.time()\n",
      "for i in v:\n",
      "    a = i\n",
      "t1 = time.time()\n",
      "print \"'for i in v' took %.3f ms\" % ((t1 - t0)*1000)\n",
      "\n",
      "t0 = time.time()\n",
      "for i in xrange(10000000):\n",
      "    a = v[i]\n",
      "t1 = time.time()\n",
      "print \"'v[i]' took %.3f ms\" % ((t1 - t0)*1000)"
     ],
     "language": "python",
     "metadata": {},
     "outputs": [
      {
       "output_type": "stream",
       "stream": "stdout",
       "text": [
        "'for i in v' took 8.152 ms\n",
        "'v[i]' took 8.616 ms\n"
       ]
      }
     ],
     "prompt_number": 4
    },
    {
     "cell_type": "code",
     "collapsed": false,
     "input": [
      "%%cython -f --cplus\n",
      "#distutils: language = c++\n",
      "from unordered_map cimport unordered_map\n",
      "from libcpp.utility cimport pair\n",
      "from cython.operator cimport dereference as deref, preincrement as inc, \\\n",
      "    postincrement as inc2\n",
      "\n",
      "cdef unordered_map[int,int] blah\n",
      "\n",
      "cdef int i\n",
      "for i in xrange(10000000):\n",
      "    blah[i] = i\n",
      "    \n",
      "import time\n",
      "cdef pair[int,int] p\n",
      "cdef int j\n",
      "\n",
      "t0 = time.time()\n",
      "for p in blah:\n",
      "    j = p.second\n",
      "t1 = time.time()\n",
      "print \"'for pair in unordered_map' took %.3f ms\" % ((t1-t0)*1e3)\n",
      "\n",
      "cdef unordered_map[int,int].iterator bt\n",
      "t0 = time.time()\n",
      "bt = blah.begin()\n",
      "while bt != blah.end():\n",
      "    p = deref(inc2(bt))\n",
      "    j = p.second\n",
      "t1 = time.time()\n",
      "print \"'iterating unordered_map' took %.3f ms\" % ((t1-t0)*1e3)\n",
      "\n",
      "t0 = time.time()\n",
      "for i in xrange(10000000):\n",
      "    j = blah[i]\n",
      "t1 = time.time()\n",
      "print \"'index accessing unordered_map' took %.3f ms\" % ((t1-t0)*1e3)"
     ],
     "language": "python",
     "metadata": {},
     "outputs": [
      {
       "output_type": "stream",
       "stream": "stdout",
       "text": [
        "'for pair in unordered_map' took 33.584 ms\n",
        "'iterating unordered_map' took 27.216 ms\n",
        "'index accessing unordered_map' took 125.568 ms"
       ]
      },
      {
       "output_type": "stream",
       "stream": "stdout",
       "text": [
        "\n"
       ]
      }
     ],
     "prompt_number": 6
    },
    {
     "cell_type": "code",
     "collapsed": false,
     "input": [
      "%%cython -f --cplus\n",
      "#distutils: language = c++\n",
      "from unordered_set cimport unordered_set\n",
      "from cython.operator cimport dereference as deref, preincrement as inc, \\\n",
      "    postincrement as inc2\n",
      "cimport numpy as np\n",
      "\n",
      "ctypedef np.uint32_t uint\n",
      "\n",
      "cdef unordered_set[uint] cset\n",
      "cdef uint q = 3\n",
      "\n",
      "cset.insert(q)\n",
      "cdef uint p\n",
      "print cset.__getitem__"
     ],
     "language": "python",
     "metadata": {},
     "outputs": [
      {
       "output_type": "stream",
       "stream": "stderr",
       "text": [
        "\n",
        "Error compiling Cython file:\n",
        "------------------------------------------------------------\n",
        "...\n",
        "cdef unordered_set[uint] cset\n",
        "cdef uint q = 3\n",
        "\n",
        "cset.insert(q)\n",
        "cdef uint p\n",
        "print cset.__getitem__\n",
        "         ^\n",
        "------------------------------------------------------------\n",
        "\n",
        "/Users/richizy/.ipython/cython/_cython_magic_e3d94ef1089d239c4a0cd8f119dea971.pyx:14:10: Object of type 'unordered_set[unsigned int]' has no attribute '__getitem__'\n"
       ]
      }
     ],
     "prompt_number": 7
    },
    {
     "cell_type": "code",
     "collapsed": false,
     "input": [
      "%%cython -f --cplus\n",
      "#distutils: language = c++\n",
      "from unordered_map cimport unordered_map\n",
      "from cython.operator cimport dereference as deref, preincrement as inc, \\\n",
      "    postincrement as inc2\n",
      "\n",
      "import numpy as np\n",
      "cimport numpy as np\n",
      "\n",
      "ctypedef np.uint32_t uint\n",
      "\n",
      "cdef class Blah(object):\n",
      "    cdef unordered_map[uint,uint] a\n",
      "    cdef unordered_map[uint,uint].iterator it\n",
      "    def __cinit__(self):\n",
      "        self.it = self.a.begin()\n",
      "    \n",
      "    def __dealloc__(self):\n",
      "        pass\n",
      "    \n",
      "    def __len__(self):\n",
      "        return self.a.size()\n",
      "\n",
      "    def __setitem__(self, x, y):\n",
      "        self.__setitem(x,y)\n",
      "        \n",
      "    cdef void __setitem(self, uint x, uint y):\n",
      "        self.a[x] = y\n",
      "        self.it = self.a.begin()\n",
      "\n",
      "    def __getitem__(self, x):\n",
      "        self.__getitem(x)\n",
      "        \n",
      "    cdef uint __getitem(self, uint x):\n",
      "        if self.a.find(x) == self.a.end():\n",
      "            raise KeyError('%d is not a stored key' % x)\n",
      "        return self.a[x]\n",
      "    \n",
      "    def broken(self):\n",
      "        return self.a[3]\n",
      "\n",
      "            \n",
      "obj = Blah()\n",
      "obj[3] = 4\n",
      "print obj.broken()"
     ],
     "language": "python",
     "metadata": {},
     "outputs": [
      {
       "output_type": "stream",
       "stream": "stdout",
       "text": [
        "4\n"
       ]
      }
     ],
     "prompt_number": 21
    },
    {
     "cell_type": "code",
     "collapsed": false,
     "input": [
      "%%cython -f --cplus\n",
      "#distutils: language = c++\n",
      "#cython: boundscheck = False\n",
      "#cython: wraparound = True\n",
      "from __future__ import division\n",
      "\n",
      "from libcpp.utility cimport pair\n",
      "from libcpp.vector cimport vector\n",
      "from cython.operator cimport dereference as deref, preincrement as inc, \\\n",
      "    postincrement as inc2\n",
      "\n",
      "cdef class Baggage(object):\n",
      "    cdef vector[int] starts\n",
      "    cdef vector[int] lens\n",
      "    def __cinit__(self):\n",
      "        pass\n",
      "\n",
      "\n",
      "    def __len__(self):\n",
      "        return self.starts.size() + 1\n",
      "\n",
      "cdef Baggage blah = Baggage()\n",
      "blah.starts.push_back(3)\n",
      "print len(blah)"
     ],
     "language": "python",
     "metadata": {},
     "outputs": [
      {
       "ename": "AttributeError",
       "evalue": "'_cython_magic_d028b89df2f84dbe30eb5be4cccd463c.Bag' object has no attribute 'starts'",
       "output_type": "pyerr",
       "traceback": [
        "\u001b[0;31m---------------------------------------------------------------------------\u001b[0m\n\u001b[0;31mAttributeError\u001b[0m                            Traceback (most recent call last)",
        "\u001b[0;32m<ipython-input-36-300b02a8866d>\u001b[0m in \u001b[0;36m<module>\u001b[0;34m()\u001b[0m\n\u001b[0;32m----> 1\u001b[0;31m \u001b[0mget_ipython\u001b[0m\u001b[0;34m(\u001b[0m\u001b[0;34m)\u001b[0m\u001b[0;34m.\u001b[0m\u001b[0mrun_cell_magic\u001b[0m\u001b[0;34m(\u001b[0m\u001b[0;34mu'cython'\u001b[0m\u001b[0;34m,\u001b[0m \u001b[0;34mu'-f --cplus'\u001b[0m\u001b[0;34m,\u001b[0m \u001b[0;34mu'#distutils: language = c++\\n#cython: boundscheck = False\\n#cython: wraparound = True\\nfrom __future__ import division\\n\\nfrom libcpp.utility cimport pair\\nfrom libcpp.vector cimport vector\\nfrom cython.operator cimport dereference as deref, preincrement as inc, \\\\\\n    postincrement as inc2\\n\\ncdef class Baggage(object):\\n    def __cinit__(self):\\n        cdef vector[int] starts\\n        cdef vector[int] lens\\n        pass\\n\\n\\n    def __len__(self):\\n        return self.starts.size() + 1\\n\\ncdef Baggage blah = Baggage()\\nblah.starts.push_back(3)\\nprint len(blah)'\u001b[0m\u001b[0;34m)\u001b[0m\u001b[0;34m\u001b[0m\u001b[0m\n\u001b[0m",
        "\u001b[0;32m/Users/richizy/anaconda/lib/python2.7/site-packages/IPython/core/interactiveshell.pyc\u001b[0m in \u001b[0;36mrun_cell_magic\u001b[0;34m(self, magic_name, line, cell)\u001b[0m\n\u001b[1;32m   2127\u001b[0m             \u001b[0mmagic_arg_s\u001b[0m \u001b[0;34m=\u001b[0m \u001b[0mself\u001b[0m\u001b[0;34m.\u001b[0m\u001b[0mvar_expand\u001b[0m\u001b[0;34m(\u001b[0m\u001b[0mline\u001b[0m\u001b[0;34m,\u001b[0m \u001b[0mstack_depth\u001b[0m\u001b[0;34m)\u001b[0m\u001b[0;34m\u001b[0m\u001b[0m\n\u001b[1;32m   2128\u001b[0m             \u001b[0;32mwith\u001b[0m \u001b[0mself\u001b[0m\u001b[0;34m.\u001b[0m\u001b[0mbuiltin_trap\u001b[0m\u001b[0;34m:\u001b[0m\u001b[0;34m\u001b[0m\u001b[0m\n\u001b[0;32m-> 2129\u001b[0;31m                 \u001b[0mresult\u001b[0m \u001b[0;34m=\u001b[0m \u001b[0mfn\u001b[0m\u001b[0;34m(\u001b[0m\u001b[0mmagic_arg_s\u001b[0m\u001b[0;34m,\u001b[0m \u001b[0mcell\u001b[0m\u001b[0;34m)\u001b[0m\u001b[0;34m\u001b[0m\u001b[0m\n\u001b[0m\u001b[1;32m   2130\u001b[0m             \u001b[0;32mreturn\u001b[0m \u001b[0mresult\u001b[0m\u001b[0;34m\u001b[0m\u001b[0m\n\u001b[1;32m   2131\u001b[0m \u001b[0;34m\u001b[0m\u001b[0m\n",
        "\u001b[0;32m/Users/richizy/anaconda/lib/python2.7/site-packages/IPython/extensions/cythonmagic.pyc\u001b[0m in \u001b[0;36mcython\u001b[0;34m(self, line, cell)\u001b[0m\n",
        "\u001b[0;32m/Users/richizy/anaconda/lib/python2.7/site-packages/IPython/core/magic.pyc\u001b[0m in \u001b[0;36m<lambda>\u001b[0;34m(f, *a, **k)\u001b[0m\n\u001b[1;32m    189\u001b[0m     \u001b[0;31m# but it's overkill for just that one bit of state.\u001b[0m\u001b[0;34m\u001b[0m\u001b[0;34m\u001b[0m\u001b[0m\n\u001b[1;32m    190\u001b[0m     \u001b[0;32mdef\u001b[0m \u001b[0mmagic_deco\u001b[0m\u001b[0;34m(\u001b[0m\u001b[0marg\u001b[0m\u001b[0;34m)\u001b[0m\u001b[0;34m:\u001b[0m\u001b[0;34m\u001b[0m\u001b[0m\n\u001b[0;32m--> 191\u001b[0;31m         \u001b[0mcall\u001b[0m \u001b[0;34m=\u001b[0m \u001b[0;32mlambda\u001b[0m \u001b[0mf\u001b[0m\u001b[0;34m,\u001b[0m \u001b[0;34m*\u001b[0m\u001b[0ma\u001b[0m\u001b[0;34m,\u001b[0m \u001b[0;34m**\u001b[0m\u001b[0mk\u001b[0m\u001b[0;34m:\u001b[0m \u001b[0mf\u001b[0m\u001b[0;34m(\u001b[0m\u001b[0;34m*\u001b[0m\u001b[0ma\u001b[0m\u001b[0;34m,\u001b[0m \u001b[0;34m**\u001b[0m\u001b[0mk\u001b[0m\u001b[0;34m)\u001b[0m\u001b[0;34m\u001b[0m\u001b[0m\n\u001b[0m\u001b[1;32m    192\u001b[0m \u001b[0;34m\u001b[0m\u001b[0m\n\u001b[1;32m    193\u001b[0m         \u001b[0;32mif\u001b[0m \u001b[0mcallable\u001b[0m\u001b[0;34m(\u001b[0m\u001b[0marg\u001b[0m\u001b[0;34m)\u001b[0m\u001b[0;34m:\u001b[0m\u001b[0;34m\u001b[0m\u001b[0m\n",
        "\u001b[0;32m/Users/richizy/anaconda/lib/python2.7/site-packages/IPython/extensions/cythonmagic.pyc\u001b[0m in \u001b[0;36mcython\u001b[0;34m(self, line, cell)\u001b[0m\n\u001b[1;32m    252\u001b[0m             \u001b[0mself\u001b[0m\u001b[0;34m.\u001b[0m\u001b[0m_code_cache\u001b[0m\u001b[0;34m[\u001b[0m\u001b[0mkey\u001b[0m\u001b[0;34m]\u001b[0m \u001b[0;34m=\u001b[0m \u001b[0mmodule_name\u001b[0m\u001b[0;34m\u001b[0m\u001b[0m\n\u001b[1;32m    253\u001b[0m \u001b[0;34m\u001b[0m\u001b[0m\n\u001b[0;32m--> 254\u001b[0;31m         \u001b[0mmodule\u001b[0m \u001b[0;34m=\u001b[0m \u001b[0mimp\u001b[0m\u001b[0;34m.\u001b[0m\u001b[0mload_dynamic\u001b[0m\u001b[0;34m(\u001b[0m\u001b[0mmodule_name\u001b[0m\u001b[0;34m,\u001b[0m \u001b[0mmodule_path\u001b[0m\u001b[0;34m)\u001b[0m\u001b[0;34m\u001b[0m\u001b[0m\n\u001b[0m\u001b[1;32m    255\u001b[0m         \u001b[0mself\u001b[0m\u001b[0;34m.\u001b[0m\u001b[0m_import_all\u001b[0m\u001b[0;34m(\u001b[0m\u001b[0mmodule\u001b[0m\u001b[0;34m)\u001b[0m\u001b[0;34m\u001b[0m\u001b[0m\n\u001b[1;32m    256\u001b[0m \u001b[0;34m\u001b[0m\u001b[0m\n",
        "\u001b[0;32m/Users/richizy/working/lshtc4/notebooks/_cython_magic_d028b89df2f84dbe30eb5be4cccd463c.pyx\u001b[0m in \u001b[0;36minit _cython_magic_d028b89df2f84dbe30eb5be4cccd463c (/Users/richizy/.ipython/cython/_cython_magic_d028b89df2f84dbe30eb5be4cccd463c.cpp:1101)\u001b[0;34m()\u001b[0m\n",
        "\u001b[0;31mAttributeError\u001b[0m: '_cython_magic_d028b89df2f84dbe30eb5be4cccd463c.Bag' object has no attribute 'starts'"
       ]
      }
     ],
     "prompt_number": 36
    },
    {
     "cell_type": "code",
     "collapsed": false,
     "input": [],
     "language": "python",
     "metadata": {},
     "outputs": []
    }
   ],
   "metadata": {}
  }
 ]
}